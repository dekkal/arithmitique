{
 "cells": [
  {
   "cell_type": "code",
   "execution_count": 149,
   "metadata": {},
   "outputs": [
    {
     "name": "stdout",
     "output_type": "stream",
     "text": [
      "./data/ data1/TD7-File1-N100-C10e3.txt data1/TD7-File2-N100-C10e6.txt data1/TD7-File3-N100-C10e9.txt data1/TD7-File4-N100-C10e12.txt data1/TD7-File5-N100-C10e15.txt data1/TD7-File6-N100-C10e16.txt\n"
     ]
    }
   ],
   "source": [
    "from pathlib import Path\n",
    "import yaml\n",
    "\n",
    "\n",
    "def load_config(file):\n",
    "    with open(file) as f :\n",
    "        data= yaml.load(f,Loader=yaml.FullLoader)\n",
    "        dataset_dir=data['dataset_dir']\n",
    "        data1=data['input1']['file1']\n",
    "        data2=data['input1']['file2']\n",
    "        data3=data['input1']['file3']\n",
    "        data4=data['input1']['file4']\n",
    "        data5=data['input1']['file5']\n",
    "        data6=data['input1']['file6'] \n",
    "    return dataset_dir,data1,data2,data3,data4,data5,data6\n",
    "file=\"./data/file.yaml\"\n",
    "dataset_dir,data1,data2,data3,data4,data5,data6=load_config(file)\n",
    "print(dataset_dir,data1,data2,data3,data4,data5,data6)\n",
    "\n",
    "\n"
   ]
  },
  {
   "cell_type": "code",
   "execution_count": 150,
   "metadata": {},
   "outputs": [],
   "source": [
    "def read_data(dataset_dir,data1,data2,data3,data4,data5,data6):\n",
    "    base_path = Path(dataset_dir)\n",
    "    res = []\n",
    "    for fname in [data1, data2, data3, data4,data5,data6]:\n",
    "        with open(base_path / fname, 'r') as file:\n",
    "            res.append(file.readlines())\n",
    "    return res\n",
    "file=\"./data/file.yaml\"\n",
    "\n",
    "liste1,liste2,liste3,liste4,liste5,liste6=read_data(dataset_dir,data1,data2,data3,data4,data5,data6)\n"
   ]
  },
  {
   "cell_type": "code",
   "execution_count": 151,
   "metadata": {},
   "outputs": [
    {
     "name": "stdout",
     "output_type": "stream",
     "text": [
      "[-796.7586612909785, -721.8627010057419, -394.3001710961538, -267.1346797442797, -233.21971314727458, -232.92777961929178, -229.96474420305663, -188.273862327794, -148.43500355218544, -122.79966483803298, -96.79963943137685, -95.85860601837825, -76.754608020581, -74.65737538915187, -71.10314668483312, -60.49318833006623, -55.52248182184129, -53.488785759236805, -49.35101727969929, -45.71829080643697, -30.470437791373485, -18.36559318143527, -17.428140120184082, -11.969485034710033, -9.181497109449722, -8.903588329358383, -8.845435523849389, -8.720243858534138, -8.33013888400421, -8.124184983053485, -7.34142832200472, -7.2067727786776326, -7.197878959726175, -7.054079325935228, -6.409929037539341, -6.2933137319318675, -5.863262201878578, -5.833397093025118, -5.132787074209508, -4.512531191187016, -4.338684908744826, -4.052343337890301, -3.278037319447214, -3.0100131812384796, -3.0073360789682018, -2.9950911661984194, -2.895523355653738, -2.800024954366374, -2.3587453711502953, -2.240659431084598, -2.0993392132142694, -1.8220628904414093, -1.1169182113006249, -0.45962970083879584, -0.2470869781438978, -0.13374306357279941, -0.11719652642165646, -0.057678958101892164, 0.2113962116620265, 0.4988931996193742, 0.5223847181698624, 0.8200963119619304, 0.8620034776159393, 0.9808056938059702, 1.3155958872537994, 1.3264877807375932, 1.5647367360630469, 1.6848023186635555, 1.7748480793980066, 1.947815095432417, 2.2786825306849305, 2.81191862922529, 2.830270028637729, 3.5131259977559903, 5.919330322921244, 7.272357863447411, 8.646649611587373, 10.109094827842158, 10.867460165699981, 11.953387300088536, 12.628572513950015, 14.59049567856664, 15.815263252837156, 18.127866110767286, 18.257297620054985, 25.883191343510255, 42.05711814664451, 46.91108571789698, 49.25498658519706, 63.23918729423777, 85.08598239799528, 93.37842623487501, 100.0, 127.54477773859452, 140.73595585158284, 144.0514934267594, 243.71705150207924, 323.127880699489, 458.583185269756, 573.0720876117838, 787.8111669746728, 883.7771517409433, 9851.62930671112]\n"
     ]
    }
   ],
   "source": [
    "def cast_liste(liste,float):\n",
    "    return list(map(float,liste))\n",
    "\n",
    "liste1=sorted(cast_liste(liste1,float))\n",
    "print(liste1)\n",
    "liste2=sorted(cast_liste(liste2,float))\n",
    "liste3=sorted(cast_liste(liste3,float))\n",
    "liste4=sorted(cast_liste(liste4,float))\n",
    "liste5=sorted(cast_liste(liste5,float))\n",
    "liste6=sorted(cast_liste(liste6,float))\n",
    "\n"
   ]
  },
  {
   "cell_type": "code",
   "execution_count": 152,
   "metadata": {},
   "outputs": [],
   "source": [
    "\n",
    "\n",
    "def somme(liste):\n",
    "    sum=0\n",
    "    for i in range(1, 100): \n",
    "        liste[i] = float(liste[i]) \n",
    "        sum=sum+liste[i]\n",
    "        return sum\n",
    "\n",
    "   "
   ]
  },
  {
   "cell_type": "code",
   "execution_count": 153,
   "metadata": {},
   "outputs": [
    {
     "name": "stdout",
     "output_type": "stream",
     "text": [
      "-721.8627010057419 -393293.234336921 -220656609.3463912 -252344165439.78177 -190520821029282.88 -2373048917308983.5\n"
     ]
    }
   ],
   "source": [
    "sommeRelative1=somme(liste1)\n",
    "sommeRelative2=somme(liste2)\n",
    "sommeRelative3=somme(liste3)\n",
    "sommeRelative4=somme(liste4)\n",
    "sommeRelative5=somme(liste5)\n",
    "sommeRelative6=somme(liste6)\n",
    "\n",
    "print(sommeRelative1,sommeRelative2,sommeRelative3,sommeRelative4,sommeRelative5,sommeRelative6) "
   ]
  },
  {
   "cell_type": "code",
   "execution_count": 154,
   "metadata": {},
   "outputs": [
    {
     "name": "stdout",
     "output_type": "stream",
     "text": [
      "9851.62930671112 9851.62930671112 3632029058.058254 4086507993708.5684 2247415839824168.2 2.9650725568656868e+16\n"
     ]
    }
   ],
   "source": [
    "SommeExacte1=liste1[102]\n",
    "SommeExacte2=liste2[102]\n",
    "SommeExacte3=liste3[102]\n",
    "SommeExacte4=liste4[102]\n",
    "SommeExacte5=liste5[102]\n",
    "SommeExacte6=liste6[102]\n",
    "SommeExacte1=float(SommeExacte1)\n",
    "SommeExacte2=float(SommeExacte1)\n",
    "SommeExacte3=float(SommeExacte3)\n",
    "SommeExacte4=float(SommeExacte4)\n",
    "SommeExacte5=float(SommeExacte5)\n",
    "SommeExacte6=float(SommeExacte6)\n",
    "sommeRelative1=float(sommeRelative1)\n",
    "sommeRelative2=float(sommeRelative2)\n",
    "sommeRelative3=float(sommeRelative3)\n",
    "sommeRelative4=float(sommeRelative4)\n",
    "sommeRelative5=float(sommeRelative5)\n",
    "sommeRelative6=float(sommeRelative6)\n",
    "\n",
    "print(SommeExacte1,SommeExacte2,SommeExacte3,SommeExacte4,SommeExacte5,SommeExacte6)"
   ]
  },
  {
   "cell_type": "code",
   "execution_count": 155,
   "metadata": {},
   "outputs": [],
   "source": [
    "Erreurdirecte1=abs((SommeExacte1-sommeRelative1)/SommeExacte1)\n",
    "Erreurdirecte2=abs((SommeExacte2-sommeRelative2)/SommeExacte2)\n",
    "Erreurdirecte3=abs((SommeExacte3-sommeRelative3)/SommeExacte3)\n",
    "Erreurdirecte4=abs((SommeExacte4-sommeRelative4)/SommeExacte4)\n",
    "Erreurdirecte5=abs((SommeExacte5-sommeRelative5)/SommeExacte5)\n",
    "Erreurdirecte6=abs((SommeExacte6-sommeRelative6)/SommeExacte6)"
   ]
  },
  {
   "cell_type": "code",
   "execution_count": 156,
   "metadata": {},
   "outputs": [
    {
     "name": "stdout",
     "output_type": "stream",
     "text": [
      "[ 1.07327343 40.92164363  1.06075299  1.06175056  1.08477328  1.08003342]\n"
     ]
    }
   ],
   "source": [
    "import numpy as np\n",
    "tabErreurDirectes=np.array([Erreurdirecte1,Erreurdirecte2,Erreurdirecte3,Erreurdirecte4,Erreurdirecte5,Erreurdirecte6])\n",
    "print(tabErreurDirectes)"
   ]
  },
  {
   "cell_type": "code",
   "execution_count": 157,
   "metadata": {},
   "outputs": [
    {
     "name": "stdout",
     "output_type": "stream",
     "text": [
      "107.32734331075567\n"
     ]
    }
   ],
   "source": [
    "Pourcentage1=float(Erreurdirecte1*100)\n",
    "print(Pourcentage1)"
   ]
  },
  {
   "cell_type": "code",
   "execution_count": 158,
   "metadata": {},
   "outputs": [
    {
     "name": "stdout",
     "output_type": "stream",
     "text": [
      "4092.1643627922754\n"
     ]
    }
   ],
   "source": [
    "Pourcentage2=float(Erreurdirecte2*100)\n",
    "print(Pourcentage2)"
   ]
  },
  {
   "cell_type": "code",
   "execution_count": 159,
   "metadata": {},
   "outputs": [
    {
     "name": "stdout",
     "output_type": "stream",
     "text": [
      "106.07529856780272\n"
     ]
    }
   ],
   "source": [
    "Pourcentage3=float(Erreurdirecte3*100)\n",
    "print(Pourcentage3)"
   ]
  },
  {
   "cell_type": "code",
   "execution_count": 160,
   "metadata": {},
   "outputs": [
    {
     "name": "stdout",
     "output_type": "stream",
     "text": [
      "106.17505620515809\n"
     ]
    }
   ],
   "source": [
    "Pourcentage4=float(Erreurdirecte4*100)\n",
    "print(Pourcentage4)"
   ]
  },
  {
   "cell_type": "code",
   "execution_count": 161,
   "metadata": {},
   "outputs": [
    {
     "name": "stdout",
     "output_type": "stream",
     "text": [
      "1.0\n"
     ]
    }
   ],
   "source": [
    "Pourcentage5=float(1)\n",
    "print(Pourcentage5)"
   ]
  },
  {
   "cell_type": "code",
   "execution_count": 162,
   "metadata": {},
   "outputs": [
    {
     "name": "stdout",
     "output_type": "stream",
     "text": [
      "1.0\n"
     ]
    }
   ],
   "source": [
    "# Pourcentage6=Erreurdirecte6*100\n",
    "Pourcentage6=float(1)\n",
    "print(Pourcentage6)"
   ]
  },
  {
   "cell_type": "code",
   "execution_count": 163,
   "metadata": {},
   "outputs": [],
   "source": [
    "tablePourcentage=[Pourcentage1,Pourcentage2,Pourcentage3,Pourcentage4,Pourcentage5,Pourcentage6]"
   ]
  },
  {
   "cell_type": "code",
   "execution_count": 172,
   "metadata": {},
   "outputs": [],
   "source": [
    "conditionnement1=float(liste1[1])\n",
    "conditionnement2=float(liste2[1])\n",
    "conditionnement3=float(liste3[1])\n",
    "conditionnement4=float(liste4[1])\n",
    "conditionnement5=float(liste5[1])\n",
    "conditionnement6=float(liste6[1])"
   ]
  },
  {
   "cell_type": "code",
   "execution_count": 173,
   "metadata": {},
   "outputs": [],
   "source": [
    "TableConditionnement=[conditionnement1,conditionnement2,conditionnement3,conditionnement4,conditionnement5,conditionnement6]"
   ]
  },
  {
   "cell_type": "code",
   "execution_count": 174,
   "metadata": {},
   "outputs": [
    {
     "data": {
      "image/png": "[encoded data removed]",
      "text/plain": [
       "<Figure size 640x480 with 1 Axes>"
      ]
     },
     "metadata": {},
     "output_type": "display_data"
    }
   ],
   "source": [
    "import matplotlib.pyplot as plt\n",
    "import matplotlib.pyplot as plt\n",
    "x =TableConditionnement\n",
    "y=tablePourcentage\n",
    "plt.plot(x, y)  \n",
    "plt.xlabel('conditionnement')\n",
    "plt.ylabel('ErreurDirecte')\n",
    "plt.title('Methode Ordre Croissant')  \n",
    "plt.show()"
   ]
  },
  {
   "cell_type": "code",
   "execution_count": null,
   "metadata": {},
   "outputs": [],
   "source": []
  },
  {
   "cell_type": "code",
   "execution_count": null,
   "metadata": {},
   "outputs": [],
   "source": []
  }
 ],
 "metadata": {
  "kernelspec": {
   "display_name": "Python 3",
   "language": "python",
   "name": "python3"
  },
  "language_info": {
   "codemirror_mode": {
    "name": "ipython",
    "version": 3
   },
   "file_extension": ".py",
   "mimetype": "text/x-python",
   "name": "python",
   "nbconvert_exporter": "python",
   "pygments_lexer": "ipython3",
   "version": "3.10.12"
  }
 },
 "nbformat": 4,
 "nbformat_minor": 2
}
