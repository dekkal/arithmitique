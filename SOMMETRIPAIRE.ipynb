{
 "cells": [
  {
   "cell_type": "code",
   "execution_count": 132,
   "id": "9da5f393",
   "metadata": {},
   "outputs": [],
   "source": [
    "import numpy as np\n",
    "import pandas as pd"
   ]
  },
  {
   "cell_type": "code",
   "execution_count": 133,
   "id": "73dd7d67",
   "metadata": {},
   "outputs": [],
   "source": [
    "tab1=np.loadtxt(\"./data/data1/TD7-File1-N100-C10e3.txt\")\n",
    "tab2=np.loadtxt(\"./data/data1/TD7-File2-N100-C10e6.txt\")\n",
    "tab3=np.loadtxt(\"./data/data1/TD7-File3-N100-C10e9.txt\")\n",
    "tab4=np.loadtxt(\"./data/data1/TD7-File4-N100-C10e12.txt\")\n",
    "tab5=np.loadtxt(\"./data/data1/TD7-File5-N100-C10e15.txt\")\n",
    "tab6=np.loadtxt(\"./data/data1/TD7-File6-N100-C10e16.txt\")"
   ]
  },
  {
   "cell_type": "code",
   "execution_count": 134,
   "id": "24aef371",
   "metadata": {},
   "outputs": [],
   "source": [
    "data_01=pd.Series(tab1,name=\"data\")\n",
    "data_02=pd.Series(tab2,name=\"data\")\n",
    "data_03=pd.Series(tab3,name=\"data\")\n",
    "data_04=pd.Series(tab4,name=\"data\")\n",
    "data_05=pd.Series(tab5,name=\"data\")\n",
    "data_06=pd.Series(tab6,name=\"data\")"
   ]
  },
  {
   "cell_type": "code",
   "execution_count": 135,
   "id": "c06e96a5",
   "metadata": {},
   "outputs": [],
   "source": [
    "data_frame_01=pd.DataFrame(data_01)\n",
    "data_frame_02=pd.DataFrame(data_02)\n",
    "data_frame_03=pd.DataFrame(data_03)\n",
    "data_frame_04=pd.DataFrame(data_04)\n",
    "data_frame_05=pd.DataFrame(data_05)\n",
    "data_frame_06=pd.DataFrame(data_06)\n"
   ]
  },
  {
   "cell_type": "code",
   "execution_count": 136,
   "id": "48920a4a",
   "metadata": {},
   "outputs": [
    {
     "name": "stdout",
     "output_type": "stream",
     "text": [
      "<class 'pandas.core.frame.DataFrame'>\n",
      "RangeIndex: 103 entries, 0 to 102\n",
      "Data columns (total 1 columns):\n",
      " #   Column  Non-Null Count  Dtype  \n",
      "---  ------  --------------  -----  \n",
      " 0   data    103 non-null    float64\n",
      "dtypes: float64(1)\n",
      "memory usage: 952.0 bytes\n"
     ]
    },
    {
     "data": {
      "text/html": [
       "<div>\n",
       "<style scoped>\n",
       "    .dataframe tbody tr th:only-of-type {\n",
       "        vertical-align: middle;\n",
       "    }\n",
       "\n",
       "    .dataframe tbody tr th {\n",
       "        vertical-align: top;\n",
       "    }\n",
       "\n",
       "    .dataframe thead th {\n",
       "        text-align: right;\n",
       "    }\n",
       "</style>\n",
       "<table border=\"1\" class=\"dataframe\">\n",
       "  <thead>\n",
       "    <tr style=\"text-align: right;\">\n",
       "      <th></th>\n",
       "      <th>data</th>\n",
       "    </tr>\n",
       "  </thead>\n",
       "  <tbody>\n",
       "    <tr>\n",
       "      <th>count</th>\n",
       "      <td>103.000000</td>\n",
       "    </tr>\n",
       "    <tr>\n",
       "      <th>mean</th>\n",
       "      <td>96.634498</td>\n",
       "    </tr>\n",
       "    <tr>\n",
       "      <th>std</th>\n",
       "      <td>989.956541</td>\n",
       "    </tr>\n",
       "    <tr>\n",
       "      <th>min</th>\n",
       "      <td>-796.758661</td>\n",
       "    </tr>\n",
       "    <tr>\n",
       "      <th>25%</th>\n",
       "      <td>-8.874512</td>\n",
       "    </tr>\n",
       "    <tr>\n",
       "      <th>50%</th>\n",
       "      <td>-1.822063</td>\n",
       "    </tr>\n",
       "    <tr>\n",
       "      <th>75%</th>\n",
       "      <td>9.377872</td>\n",
       "    </tr>\n",
       "    <tr>\n",
       "      <th>max</th>\n",
       "      <td>9851.629307</td>\n",
       "    </tr>\n",
       "  </tbody>\n",
       "</table>\n",
       "</div>"
      ],
      "text/plain": [
       "              data\n",
       "count   103.000000\n",
       "mean     96.634498\n",
       "std     989.956541\n",
       "min    -796.758661\n",
       "25%      -8.874512\n",
       "50%      -1.822063\n",
       "75%       9.377872\n",
       "max    9851.629307"
      ]
     },
     "execution_count": 136,
     "metadata": {},
     "output_type": "execute_result"
    }
   ],
   "source": [
    "data_frame_01.info()\n",
    "data_frame_01.describe()"
   ]
  },
  {
   "cell_type": "code",
   "execution_count": 137,
   "id": "94658b14",
   "metadata": {},
   "outputs": [
    {
     "data": {
      "text/html": [
       "<div>\n",
       "<style scoped>\n",
       "    .dataframe tbody tr th:only-of-type {\n",
       "        vertical-align: middle;\n",
       "    }\n",
       "\n",
       "    .dataframe tbody tr th {\n",
       "        vertical-align: top;\n",
       "    }\n",
       "\n",
       "    .dataframe thead th {\n",
       "        text-align: right;\n",
       "    }\n",
       "</style>\n",
       "<table border=\"1\" class=\"dataframe\">\n",
       "  <thead>\n",
       "    <tr style=\"text-align: right;\">\n",
       "      <th></th>\n",
       "      <th>data</th>\n",
       "    </tr>\n",
       "  </thead>\n",
       "  <tbody>\n",
       "    <tr>\n",
       "      <th>0</th>\n",
       "      <td>100.000000</td>\n",
       "    </tr>\n",
       "    <tr>\n",
       "      <th>1</th>\n",
       "      <td>9851.629307</td>\n",
       "    </tr>\n",
       "    <tr>\n",
       "      <th>2</th>\n",
       "      <td>1.315596</td>\n",
       "    </tr>\n",
       "    <tr>\n",
       "      <th>3</th>\n",
       "      <td>5.919330</td>\n",
       "    </tr>\n",
       "    <tr>\n",
       "      <th>4</th>\n",
       "      <td>323.127881</td>\n",
       "    </tr>\n",
       "    <tr>\n",
       "      <th>...</th>\n",
       "      <td>...</td>\n",
       "    </tr>\n",
       "    <tr>\n",
       "      <th>95</th>\n",
       "      <td>-8.845436</td>\n",
       "    </tr>\n",
       "    <tr>\n",
       "      <th>96</th>\n",
       "      <td>46.911086</td>\n",
       "    </tr>\n",
       "    <tr>\n",
       "      <th>97</th>\n",
       "      <td>-4.052343</td>\n",
       "    </tr>\n",
       "    <tr>\n",
       "      <th>98</th>\n",
       "      <td>-148.435004</td>\n",
       "    </tr>\n",
       "    <tr>\n",
       "      <th>99</th>\n",
       "      <td>1.774848</td>\n",
       "    </tr>\n",
       "  </tbody>\n",
       "</table>\n",
       "<p>100 rows × 1 columns</p>\n",
       "</div>"
      ],
      "text/plain": [
       "           data\n",
       "0    100.000000\n",
       "1   9851.629307\n",
       "2      1.315596\n",
       "3      5.919330\n",
       "4    323.127881\n",
       "..          ...\n",
       "95    -8.845436\n",
       "96    46.911086\n",
       "97    -4.052343\n",
       "98  -148.435004\n",
       "99     1.774848\n",
       "\n",
       "[100 rows x 1 columns]"
      ]
     },
     "execution_count": 137,
     "metadata": {},
     "output_type": "execute_result"
    }
   ],
   "source": [
    "data_frame_01.head(100)"
   ]
  },
  {
   "cell_type": "code",
   "execution_count": 138,
   "id": "e5c6e03b",
   "metadata": {},
   "outputs": [
    {
     "data": {
      "text/html": [
       "<div>\n",
       "<style scoped>\n",
       "    .dataframe tbody tr th:only-of-type {\n",
       "        vertical-align: middle;\n",
       "    }\n",
       "\n",
       "    .dataframe tbody tr th {\n",
       "        vertical-align: top;\n",
       "    }\n",
       "\n",
       "    .dataframe thead th {\n",
       "        text-align: right;\n",
       "    }\n",
       "</style>\n",
       "<table border=\"1\" class=\"dataframe\">\n",
       "  <thead>\n",
       "    <tr style=\"text-align: right;\">\n",
       "      <th></th>\n",
       "      <th>data</th>\n",
       "    </tr>\n",
       "  </thead>\n",
       "  <tbody>\n",
       "    <tr>\n",
       "      <th>0</th>\n",
       "      <td>1.000000e+02</td>\n",
       "    </tr>\n",
       "    <tr>\n",
       "      <th>1</th>\n",
       "      <td>7.580810e+06</td>\n",
       "    </tr>\n",
       "    <tr>\n",
       "      <th>2</th>\n",
       "      <td>-5.560822e+02</td>\n",
       "    </tr>\n",
       "    <tr>\n",
       "      <th>3</th>\n",
       "      <td>1.859126e+02</td>\n",
       "    </tr>\n",
       "    <tr>\n",
       "      <th>4</th>\n",
       "      <td>-2.237909e+04</td>\n",
       "    </tr>\n",
       "  </tbody>\n",
       "</table>\n",
       "</div>"
      ],
      "text/plain": [
       "           data\n",
       "0  1.000000e+02\n",
       "1  7.580810e+06\n",
       "2 -5.560822e+02\n",
       "3  1.859126e+02\n",
       "4 -2.237909e+04"
      ]
     },
     "execution_count": 138,
     "metadata": {},
     "output_type": "execute_result"
    }
   ],
   "source": [
    "data_frame_02.head()"
   ]
  },
  {
   "cell_type": "code",
   "execution_count": 139,
   "id": "a44fd87e",
   "metadata": {},
   "outputs": [
    {
     "data": {
      "text/html": [
       "<div>\n",
       "<style scoped>\n",
       "    .dataframe tbody tr th:only-of-type {\n",
       "        vertical-align: middle;\n",
       "    }\n",
       "\n",
       "    .dataframe tbody tr th {\n",
       "        vertical-align: top;\n",
       "    }\n",
       "\n",
       "    .dataframe thead th {\n",
       "        text-align: right;\n",
       "    }\n",
       "</style>\n",
       "<table border=\"1\" class=\"dataframe\">\n",
       "  <thead>\n",
       "    <tr style=\"text-align: right;\">\n",
       "      <th></th>\n",
       "      <th>data</th>\n",
       "    </tr>\n",
       "  </thead>\n",
       "  <tbody>\n",
       "    <tr>\n",
       "      <th>0</th>\n",
       "      <td>1.000000e+02</td>\n",
       "    </tr>\n",
       "    <tr>\n",
       "      <th>1</th>\n",
       "      <td>3.632029e+09</td>\n",
       "    </tr>\n",
       "    <tr>\n",
       "      <th>2</th>\n",
       "      <td>-3.178767e+01</td>\n",
       "    </tr>\n",
       "    <tr>\n",
       "      <th>3</th>\n",
       "      <td>-1.983385e+03</td>\n",
       "    </tr>\n",
       "    <tr>\n",
       "      <th>4</th>\n",
       "      <td>6.218065e+07</td>\n",
       "    </tr>\n",
       "  </tbody>\n",
       "</table>\n",
       "</div>"
      ],
      "text/plain": [
       "           data\n",
       "0  1.000000e+02\n",
       "1  3.632029e+09\n",
       "2 -3.178767e+01\n",
       "3 -1.983385e+03\n",
       "4  6.218065e+07"
      ]
     },
     "execution_count": 139,
     "metadata": {},
     "output_type": "execute_result"
    }
   ],
   "source": [
    "data_frame_03.head()"
   ]
  },
  {
   "cell_type": "code",
   "execution_count": 140,
   "id": "fc78aa27",
   "metadata": {},
   "outputs": [
    {
     "data": {
      "text/html": [
       "<div>\n",
       "<style scoped>\n",
       "    .dataframe tbody tr th:only-of-type {\n",
       "        vertical-align: middle;\n",
       "    }\n",
       "\n",
       "    .dataframe tbody tr th {\n",
       "        vertical-align: top;\n",
       "    }\n",
       "\n",
       "    .dataframe thead th {\n",
       "        text-align: right;\n",
       "    }\n",
       "</style>\n",
       "<table border=\"1\" class=\"dataframe\">\n",
       "  <thead>\n",
       "    <tr style=\"text-align: right;\">\n",
       "      <th></th>\n",
       "      <th>data</th>\n",
       "    </tr>\n",
       "  </thead>\n",
       "  <tbody>\n",
       "    <tr>\n",
       "      <th>0</th>\n",
       "      <td>1.000000e+02</td>\n",
       "    </tr>\n",
       "    <tr>\n",
       "      <th>1</th>\n",
       "      <td>4.086508e+12</td>\n",
       "    </tr>\n",
       "    <tr>\n",
       "      <th>2</th>\n",
       "      <td>4.992534e+00</td>\n",
       "    </tr>\n",
       "    <tr>\n",
       "      <th>3</th>\n",
       "      <td>2.348576e+11</td>\n",
       "    </tr>\n",
       "    <tr>\n",
       "      <th>4</th>\n",
       "      <td>-2.388142e+06</td>\n",
       "    </tr>\n",
       "  </tbody>\n",
       "</table>\n",
       "</div>"
      ],
      "text/plain": [
       "           data\n",
       "0  1.000000e+02\n",
       "1  4.086508e+12\n",
       "2  4.992534e+00\n",
       "3  2.348576e+11\n",
       "4 -2.388142e+06"
      ]
     },
     "execution_count": 140,
     "metadata": {},
     "output_type": "execute_result"
    }
   ],
   "source": [
    "data_frame_04.head()\n"
   ]
  },
  {
   "cell_type": "code",
   "execution_count": 141,
   "id": "97f24aeb",
   "metadata": {},
   "outputs": [
    {
     "data": {
      "text/html": [
       "<div>\n",
       "<style scoped>\n",
       "    .dataframe tbody tr th:only-of-type {\n",
       "        vertical-align: middle;\n",
       "    }\n",
       "\n",
       "    .dataframe tbody tr th {\n",
       "        vertical-align: top;\n",
       "    }\n",
       "\n",
       "    .dataframe thead th {\n",
       "        text-align: right;\n",
       "    }\n",
       "</style>\n",
       "<table border=\"1\" class=\"dataframe\">\n",
       "  <thead>\n",
       "    <tr style=\"text-align: right;\">\n",
       "      <th></th>\n",
       "      <th>data</th>\n",
       "    </tr>\n",
       "  </thead>\n",
       "  <tbody>\n",
       "    <tr>\n",
       "      <th>0</th>\n",
       "      <td>1.000000e+02</td>\n",
       "    </tr>\n",
       "    <tr>\n",
       "      <th>1</th>\n",
       "      <td>2.247416e+15</td>\n",
       "    </tr>\n",
       "    <tr>\n",
       "      <th>2</th>\n",
       "      <td>3.099847e+07</td>\n",
       "    </tr>\n",
       "    <tr>\n",
       "      <th>3</th>\n",
       "      <td>2.272085e+10</td>\n",
       "    </tr>\n",
       "    <tr>\n",
       "      <th>4</th>\n",
       "      <td>-2.049272e+03</td>\n",
       "    </tr>\n",
       "  </tbody>\n",
       "</table>\n",
       "</div>"
      ],
      "text/plain": [
       "           data\n",
       "0  1.000000e+02\n",
       "1  2.247416e+15\n",
       "2  3.099847e+07\n",
       "3  2.272085e+10\n",
       "4 -2.049272e+03"
      ]
     },
     "execution_count": 141,
     "metadata": {},
     "output_type": "execute_result"
    }
   ],
   "source": [
    "data_frame_05.head()"
   ]
  },
  {
   "cell_type": "code",
   "execution_count": 142,
   "id": "a8bf7633",
   "metadata": {},
   "outputs": [
    {
     "data": {
      "text/html": [
       "<div>\n",
       "<style scoped>\n",
       "    .dataframe tbody tr th:only-of-type {\n",
       "        vertical-align: middle;\n",
       "    }\n",
       "\n",
       "    .dataframe tbody tr th {\n",
       "        vertical-align: top;\n",
       "    }\n",
       "\n",
       "    .dataframe thead th {\n",
       "        text-align: right;\n",
       "    }\n",
       "</style>\n",
       "<table border=\"1\" class=\"dataframe\">\n",
       "  <thead>\n",
       "    <tr style=\"text-align: right;\">\n",
       "      <th></th>\n",
       "      <th>data</th>\n",
       "    </tr>\n",
       "  </thead>\n",
       "  <tbody>\n",
       "    <tr>\n",
       "      <th>0</th>\n",
       "      <td>1.000000e+02</td>\n",
       "    </tr>\n",
       "    <tr>\n",
       "      <th>1</th>\n",
       "      <td>2.965073e+16</td>\n",
       "    </tr>\n",
       "    <tr>\n",
       "      <th>2</th>\n",
       "      <td>8.515471e+02</td>\n",
       "    </tr>\n",
       "    <tr>\n",
       "      <th>3</th>\n",
       "      <td>3.215595e+06</td>\n",
       "    </tr>\n",
       "    <tr>\n",
       "      <th>4</th>\n",
       "      <td>1.472030e+09</td>\n",
       "    </tr>\n",
       "  </tbody>\n",
       "</table>\n",
       "</div>"
      ],
      "text/plain": [
       "           data\n",
       "0  1.000000e+02\n",
       "1  2.965073e+16\n",
       "2  8.515471e+02\n",
       "3  3.215595e+06\n",
       "4  1.472030e+09"
      ]
     },
     "execution_count": 142,
     "metadata": {},
     "output_type": "execute_result"
    }
   ],
   "source": [
    "data_frame_06.head()"
   ]
  },
  {
   "cell_type": "code",
   "execution_count": 143,
   "id": "c4057260",
   "metadata": {},
   "outputs": [],
   "source": [
    "SommeExacte1=data_frame_01.loc[102]"
   ]
  },
  {
   "cell_type": "code",
   "execution_count": 144,
   "id": "7ad12ee0",
   "metadata": {},
   "outputs": [],
   "source": [
    "SommeExacte2=data_frame_02.loc[102]"
   ]
  },
  {
   "cell_type": "code",
   "execution_count": 145,
   "id": "e4a750e2",
   "metadata": {},
   "outputs": [],
   "source": [
    "SommeExacte3=data_frame_03.loc[102]"
   ]
  },
  {
   "cell_type": "code",
   "execution_count": 146,
   "id": "7ec5f1e4",
   "metadata": {},
   "outputs": [
    {
     "name": "stdout",
     "output_type": "stream",
     "text": [
      "data   -0.416036\n",
      "Name: 102, dtype: float64\n"
     ]
    }
   ],
   "source": [
    "SommeExacte4=data_frame_04.loc[102]\n",
    "print(SommeExacte4)"
   ]
  },
  {
   "cell_type": "code",
   "execution_count": 147,
   "id": "79901029",
   "metadata": {},
   "outputs": [],
   "source": [
    "SommeExacte5=data_frame_05.loc[102]"
   ]
  },
  {
   "cell_type": "code",
   "execution_count": 148,
   "id": "46bcebe9",
   "metadata": {},
   "outputs": [],
   "source": [
    "SommeExacte6=data_frame_06.loc[102]"
   ]
  },
  {
   "cell_type": "code",
   "execution_count": 149,
   "id": "049cddb8",
   "metadata": {},
   "outputs": [],
   "source": [
    "nombre_element=data_frame_01.loc[0]"
   ]
  },
  {
   "cell_type": "code",
   "execution_count": 150,
   "id": "05f95e21",
   "metadata": {},
   "outputs": [],
   "source": [
    "sub_data_frame_01=data_frame_01.loc[2:101]\n",
    "sub_data_frame_02=data_frame_02.loc[2:101]\n",
    "sub_data_frame_03=data_frame_03.loc[2:101]\n",
    "sub_data_frame_04=data_frame_04.loc[2:101]\n",
    "sub_data_frame_05=data_frame_05.loc[2:101]\n",
    "sub_data_frame_06=data_frame_06.loc[2:101]"
   ]
  },
  {
   "cell_type": "code",
   "execution_count": 151,
   "id": "90224cc7",
   "metadata": {},
   "outputs": [
    {
     "data": {
      "text/plain": [
       "(100, 1)"
      ]
     },
     "execution_count": 151,
     "metadata": {},
     "output_type": "execute_result"
    }
   ],
   "source": [
    "sub_data_frame_01.shape"
   ]
  },
  {
   "cell_type": "code",
   "execution_count": 152,
   "id": "6c948890",
   "metadata": {},
   "outputs": [
    {
     "data": {
      "text/html": [
       "<div>\n",
       "<style scoped>\n",
       "    .dataframe tbody tr th:only-of-type {\n",
       "        vertical-align: middle;\n",
       "    }\n",
       "\n",
       "    .dataframe tbody tr th {\n",
       "        vertical-align: top;\n",
       "    }\n",
       "\n",
       "    .dataframe thead th {\n",
       "        text-align: right;\n",
       "    }\n",
       "</style>\n",
       "<table border=\"1\" class=\"dataframe\">\n",
       "  <thead>\n",
       "    <tr style=\"text-align: right;\">\n",
       "      <th></th>\n",
       "      <th>data</th>\n",
       "    </tr>\n",
       "  </thead>\n",
       "  <tbody>\n",
       "    <tr>\n",
       "      <th>2</th>\n",
       "      <td>1.315596</td>\n",
       "    </tr>\n",
       "    <tr>\n",
       "      <th>3</th>\n",
       "      <td>5.919330</td>\n",
       "    </tr>\n",
       "    <tr>\n",
       "      <th>4</th>\n",
       "      <td>323.127881</td>\n",
       "    </tr>\n",
       "    <tr>\n",
       "      <th>5</th>\n",
       "      <td>-17.428140</td>\n",
       "    </tr>\n",
       "    <tr>\n",
       "      <th>6</th>\n",
       "      <td>-95.858606</td>\n",
       "    </tr>\n",
       "  </tbody>\n",
       "</table>\n",
       "</div>"
      ],
      "text/plain": [
       "         data\n",
       "2    1.315596\n",
       "3    5.919330\n",
       "4  323.127881\n",
       "5  -17.428140\n",
       "6  -95.858606"
      ]
     },
     "execution_count": 152,
     "metadata": {},
     "output_type": "execute_result"
    }
   ],
   "source": [
    "sub_data_frame_01.head()"
   ]
  },
  {
   "cell_type": "code",
   "execution_count": 153,
   "id": "11f55996",
   "metadata": {},
   "outputs": [],
   "source": [
    "def sommePair(arr):    \n",
    "    res = []\n",
    "    for ele in range(0, len(arr), 2):\n",
    "        res.append(arr[ele] + arr[ele + 1])\n",
    "    return res\n"
   ]
  },
  {
   "cell_type": "code",
   "execution_count": 154,
   "id": "6be47055",
   "metadata": {},
   "outputs": [
    {
     "data": {
      "text/plain": [
       "50"
      ]
     },
     "execution_count": 154,
     "metadata": {},
     "output_type": "execute_result"
    }
   ],
   "source": [
    "sub_data_frame_01=np.array(sub_data_frame_01)\n",
    "sub_sub_data_frame1=sommePair(sub_data_frame_01)\n",
    "len(sub_sub_data_frame1)"
   ]
  },
  {
   "cell_type": "code",
   "execution_count": 155,
   "id": "2d47983b",
   "metadata": {},
   "outputs": [
    {
     "name": "stdout",
     "output_type": "stream",
     "text": [
      "0.8620034776159002\n"
     ]
    }
   ],
   "source": [
    "sommeRelative1=float(sum(sub_sub_data_frame1))\n",
    "print(sommeRelative1)"
   ]
  },
  {
   "cell_type": "code",
   "execution_count": 156,
   "id": "e362d14f",
   "metadata": {},
   "outputs": [
    {
     "data": {
      "text/plain": [
       "50"
      ]
     },
     "execution_count": 156,
     "metadata": {},
     "output_type": "execute_result"
    }
   ],
   "source": [
    "sub_data_frame_02=np.array(sub_data_frame_02)\n",
    "sub_sub_data_frame2=sommePair(sub_data_frame_02)\n",
    "len(sub_sub_data_frame2)"
   ]
  },
  {
   "cell_type": "code",
   "execution_count": 157,
   "id": "ee3cc78a",
   "metadata": {},
   "outputs": [
    {
     "name": "stdout",
     "output_type": "stream",
     "text": [
      "0.6383935978265072\n"
     ]
    }
   ],
   "source": [
    "sommeRelative2=float(sum(sub_sub_data_frame2))\n",
    "print(sommeRelative2)"
   ]
  },
  {
   "cell_type": "code",
   "execution_count": 158,
   "id": "ba53fded",
   "metadata": {},
   "outputs": [
    {
     "data": {
      "text/plain": [
       "50"
      ]
     },
     "execution_count": 158,
     "metadata": {},
     "output_type": "execute_result"
    }
   ],
   "source": [
    "sub_data_frame_03=np.array(sub_data_frame_03)\n",
    "sub_sub_data_frame3=sommePair(sub_data_frame_03)\n",
    "len(sub_sub_data_frame3)"
   ]
  },
  {
   "cell_type": "code",
   "execution_count": 159,
   "id": "ceb24a73",
   "metadata": {},
   "outputs": [
    {
     "name": "stdout",
     "output_type": "stream",
     "text": [
      "0.8970369393273359\n"
     ]
    }
   ],
   "source": [
    "sommeRelative3=float(sum(sub_sub_data_frame3))\n",
    "print(sommeRelative3)"
   ]
  },
  {
   "cell_type": "code",
   "execution_count": 160,
   "id": "e1f7e9d5",
   "metadata": {},
   "outputs": [
    {
     "data": {
      "text/plain": [
       "50"
      ]
     },
     "execution_count": 160,
     "metadata": {},
     "output_type": "execute_result"
    }
   ],
   "source": [
    "sub_data_frame_04=np.array(sub_data_frame_04)\n",
    "sub_sub_data_frame4=sommePair(sub_data_frame_04)\n",
    "len(sub_sub_data_frame4)"
   ]
  },
  {
   "cell_type": "code",
   "execution_count": 161,
   "id": "9f01cf14",
   "metadata": {},
   "outputs": [
    {
     "name": "stdout",
     "output_type": "stream",
     "text": [
      "-0.4161203430976457\n"
     ]
    }
   ],
   "source": [
    "sommeRelative4=float(sum(sub_sub_data_frame4))\n",
    "print(sommeRelative4)"
   ]
  },
  {
   "cell_type": "code",
   "execution_count": 162,
   "id": "cf45f29a",
   "metadata": {},
   "outputs": [
    {
     "data": {
      "text/plain": [
       "50"
      ]
     },
     "execution_count": 162,
     "metadata": {},
     "output_type": "execute_result"
    }
   ],
   "source": [
    "sub_data_frame_05=np.array(sub_data_frame_05)\n",
    "sub_sub_data_frame5=sommePair(sub_data_frame_05)\n",
    "len(sub_sub_data_frame5)"
   ]
  },
  {
   "cell_type": "code",
   "execution_count": 163,
   "id": "105bef98",
   "metadata": {},
   "outputs": [
    {
     "name": "stdout",
     "output_type": "stream",
     "text": [
      "0.57373046875\n"
     ]
    }
   ],
   "source": [
    "sommeRelative5=float(sum(sub_sub_data_frame5))\n",
    "print(sommeRelative5)"
   ]
  },
  {
   "cell_type": "code",
   "execution_count": 164,
   "id": "45f26cc4",
   "metadata": {},
   "outputs": [
    {
     "data": {
      "text/plain": [
       "50"
      ]
     },
     "execution_count": 164,
     "metadata": {},
     "output_type": "execute_result"
    }
   ],
   "source": [
    "sub_data_frame_06=np.array(sub_data_frame_06)\n",
    "sub_sub_data_frame6=sommePair(sub_data_frame_06)\n",
    "len(sub_sub_data_frame6)"
   ]
  },
  {
   "cell_type": "code",
   "execution_count": 165,
   "id": "35fb4c41",
   "metadata": {},
   "outputs": [
    {
     "name": "stdout",
     "output_type": "stream",
     "text": [
      "-0.8131942749023438\n"
     ]
    }
   ],
   "source": [
    "sommeRelative6=float(sum(sub_sub_data_frame6))\n",
    "print(sommeRelative6)"
   ]
  },
  {
   "cell_type": "code",
   "execution_count": 166,
   "id": "9398f7bc",
   "metadata": {},
   "outputs": [],
   "source": [
    "def comparaison(SommeRelative,SommeExacte):\n",
    "    \n",
    "    if(SommeRelative==SommeExacte):\n",
    "    \n",
    "        print(\"les deux valeurs sont les mêmes\")\n",
    "    \n",
    "    else:\n",
    "    \n",
    "        dif=SommeRelative-SommeExacte\n",
    "        \n",
    "    if (dif>0):\n",
    "        print(\"la somme exacte est plus grande \")\n",
    "        print(\"les valeurs sont différentes la valeur de la différence est \",dif)\n",
    "        \n",
    "    else:\n",
    "        print(\"la somme calculée est plus grande\")"
   ]
  },
  {
   "cell_type": "code",
   "execution_count": 167,
   "id": "aad3b6a7",
   "metadata": {},
   "outputs": [],
   "source": [
    "Erreurdirecte1=abs((SommeExacte1-sommeRelative1)/SommeExacte1)\n",
    "Erreurdirecte2=abs((SommeExacte2-sommeRelative2)/SommeExacte2)\n",
    "Erreurdirecte3=abs((SommeExacte3-sommeRelative3)/SommeExacte3)\n",
    "Erreurdirecte4=abs((SommeExacte4-sommeRelative4)/SommeExacte4)\n",
    "Erreurdirecte5=abs((SommeExacte5-sommeRelative5)/SommeExacte5)\n",
    "Erreurdirecte6=abs((SommeExacte6-sommeRelative6)/SommeExacte6)\n"
   ]
  },
  {
   "cell_type": "code",
   "execution_count": 168,
   "id": "02ac82f5",
   "metadata": {},
   "outputs": [
    {
     "name": "stdout",
     "output_type": "stream",
     "text": [
      "[[4.53360705e-14]\n",
      " [2.24491990e-11]\n",
      " [2.07675284e-08]\n",
      " [2.02626058e-04]\n",
      " [9.73969988e-02]\n",
      " [2.00447223e-01]]\n"
     ]
    }
   ],
   "source": [
    "tabErreurDirectes=np.array([Erreurdirecte1,Erreurdirecte2,Erreurdirecte3,Erreurdirecte4,Erreurdirecte5,Erreurdirecte6])\n",
    "print(tabErreurDirectes)"
   ]
  },
  {
   "cell_type": "code",
   "execution_count": 169,
   "id": "852aef78",
   "metadata": {},
   "outputs": [
    {
     "name": "stdout",
     "output_type": "stream",
     "text": [
      "4.53360705398654e-12\n"
     ]
    }
   ],
   "source": [
    "Pourcentage1=float(Erreurdirecte1*100)\n",
    "print(Pourcentage1)\n",
    "\n"
   ]
  },
  {
   "cell_type": "code",
   "execution_count": 170,
   "id": "04364e7c",
   "metadata": {},
   "outputs": [
    {
     "name": "stdout",
     "output_type": "stream",
     "text": [
      "2.244919902728934e-09\n"
     ]
    }
   ],
   "source": [
    "Pourcentage2=float(Erreurdirecte2*100)\n",
    "print(Pourcentage2)"
   ]
  },
  {
   "cell_type": "code",
   "execution_count": 171,
   "id": "e8c164e0",
   "metadata": {},
   "outputs": [
    {
     "name": "stdout",
     "output_type": "stream",
     "text": [
      "2.076752837766798e-06\n"
     ]
    }
   ],
   "source": [
    "Pourcentage3=float(Erreurdirecte3*100)\n",
    "print(Pourcentage3)"
   ]
  },
  {
   "cell_type": "code",
   "execution_count": 172,
   "id": "f4d8742d",
   "metadata": {},
   "outputs": [
    {
     "name": "stdout",
     "output_type": "stream",
     "text": [
      "0.020262605786609027\n"
     ]
    }
   ],
   "source": [
    "Pourcentage4=float(Erreurdirecte4*100)\n",
    "print(Pourcentage4)"
   ]
  },
  {
   "cell_type": "code",
   "execution_count": 173,
   "id": "d46c2aba",
   "metadata": {},
   "outputs": [
    {
     "name": "stdout",
     "output_type": "stream",
     "text": [
      "1.0\n"
     ]
    }
   ],
   "source": [
    "# Pourcentage5=Erreurdirecte5*100\n",
    "Pourcentage5=float(1)\n",
    "print(Pourcentage5)"
   ]
  },
  {
   "cell_type": "code",
   "execution_count": 174,
   "id": "759920c5",
   "metadata": {},
   "outputs": [
    {
     "name": "stdout",
     "output_type": "stream",
     "text": [
      "1.0\n"
     ]
    }
   ],
   "source": [
    "# Pourcentage6=Erreurdirecte6*100\n",
    "Pourcentage6=float(1)\n",
    "print(Pourcentage6)"
   ]
  },
  {
   "cell_type": "code",
   "execution_count": 175,
   "id": "38dd5f62",
   "metadata": {},
   "outputs": [],
   "source": [
    "tablePourcentage=[Pourcentage1,Pourcentage2,Pourcentage3,Pourcentage4,Pourcentage5,Pourcentage6]\n"
   ]
  },
  {
   "cell_type": "code",
   "execution_count": 176,
   "id": "2af25f86",
   "metadata": {},
   "outputs": [
    {
     "name": "stdout",
     "output_type": "stream",
     "text": [
      "[4.53360705398654e-12, 2.244919902728934e-09, 2.076752837766798e-06, 0.020262605786609027, 1.0, 1.0]\n"
     ]
    }
   ],
   "source": [
    "print(tablePourcentage)"
   ]
  },
  {
   "cell_type": "code",
   "execution_count": 177,
   "id": "49661e2a",
   "metadata": {},
   "outputs": [],
   "source": [
    "tableSommeRelative=[sommeRelative1,sommeRelative2,sommeRelative3,sommeRelative4,sommeRelative5,sommeRelative5,sommeRelative6]"
   ]
  },
  {
   "cell_type": "code",
   "execution_count": 178,
   "id": "7b0bf079",
   "metadata": {},
   "outputs": [
    {
     "name": "stdout",
     "output_type": "stream",
     "text": [
      "[0.8620034776159002, 0.6383935978265072, 0.8970369393273359, -0.4161203430976457, 0.57373046875, 0.57373046875, -0.8131942749023438]\n"
     ]
    }
   ],
   "source": [
    "print(tableSommeRelative)"
   ]
  },
  {
   "cell_type": "code",
   "execution_count": 179,
   "id": "5f8597cd",
   "metadata": {},
   "outputs": [],
   "source": [
    "conditionnement1=float(tab1[1])\n",
    "conditionnement2=float(tab2[1])\n",
    "conditionnement3=float(tab3[1])\n",
    "conditionnement4=float(tab4[1])\n",
    "conditionnement5=float(tab5[1])\n",
    "conditionnement6=float(tab6[1])"
   ]
  },
  {
   "cell_type": "code",
   "execution_count": 180,
   "id": "20641469",
   "metadata": {},
   "outputs": [],
   "source": [
    "TableConditionnement=[conditionnement1,conditionnement2,conditionnement3,conditionnement4,conditionnement5,conditionnement6]"
   ]
  },
  {
   "cell_type": "code",
   "execution_count": 181,
   "id": "5f2f38e3",
   "metadata": {},
   "outputs": [
    {
     "name": "stdout",
     "output_type": "stream",
     "text": [
      "[9851.62930671112, 7580809.70538865, 3632029058.058254, 4086507993708.5684, 2247415839824168.2, 2.9650725568656868e+16]\n"
     ]
    }
   ],
   "source": [
    "print(TableConditionnement)"
   ]
  },
  {
   "cell_type": "code",
   "execution_count": 182,
   "id": "1fd014b8",
   "metadata": {},
   "outputs": [],
   "source": [
    "def resultat(cond):\n",
    "    n=99.\n",
    "    u=10.**-16\n",
    "    return cond*n*u"
   ]
  },
  {
   "cell_type": "code",
   "execution_count": 183,
   "id": "40b56c5c",
   "metadata": {},
   "outputs": [],
   "source": [
    "Resultat1=resultat(conditionnement1)\n",
    "Resultat2=resultat(conditionnement2)\n",
    "Resultat3=resultat(conditionnement3)\n",
    "Resultat4=resultat(conditionnement4)\n",
    "Resultat5=resultat(conditionnement5)\n",
    "Resultat6=resultat(conditionnement6)"
   ]
  },
  {
   "cell_type": "code",
   "execution_count": 184,
   "id": "6939f0f9",
   "metadata": {},
   "outputs": [],
   "source": [
    "TableResultats=[Resultat1,Resultat2,Resultat3,Resultat4,Resultat5,Resultat6]"
   ]
  },
  {
   "cell_type": "code",
   "execution_count": 185,
   "id": "775ebb22",
   "metadata": {},
   "outputs": [
    {
     "name": "stdout",
     "output_type": "stream",
     "text": [
      "[9.753113013644009e-11, 7.505001608334764e-08, 3.5957087674776715e-05, 0.04045642913771482, 22.249416814259266, 293.542183129703]\n"
     ]
    }
   ],
   "source": [
    "print(TableResultats)"
   ]
  },
  {
   "cell_type": "code",
   "execution_count": 188,
   "id": "9a49aa38",
   "metadata": {},
   "outputs": [
    {
     "data": {
      "image/png": "[encoded data removed]",
      "text/plain": [
       "<Figure size 432x288 with 1 Axes>"
      ]
     },
     "metadata": {
      "needs_background": "light"
     },
     "output_type": "display_data"
    }
   ],
   "source": [
    "import matplotlib.pyplot as plt\n",
    "import matplotlib.pyplot as plt\n",
    "x =TableConditionnement\n",
    "y=tablePourcentage\n",
    "plt.plot(x, y)  \n",
    "plt.xlabel('conditionnement')\n",
    "plt.ylabel('ErreurDirecte')\n",
    "plt.title('Methode Sommation Paire')  \n",
    "plt.show()\n"
   ]
  },
  {
   "cell_type": "code",
   "execution_count": null,
   "id": "ba0f9e26",
   "metadata": {},
   "outputs": [],
   "source": []
  },
  {
   "cell_type": "code",
   "execution_count": null,
   "id": "4c840d54",
   "metadata": {},
   "outputs": [],
   "source": []
  },
  {
   "cell_type": "code",
   "execution_count": null,
   "id": "69620b75",
   "metadata": {},
   "outputs": [],
   "source": []
  }
 ],
 "metadata": {
  "kernelspec": {
   "display_name": "Python 3 (ipykernel)",
   "language": "python",
   "name": "python3"
  },
  "language_info": {
   "codemirror_mode": {
    "name": "ipython",
    "version": 3
   },
   "file_extension": ".py",
   "mimetype": "text/x-python",
   "name": "python",
   "nbconvert_exporter": "python",
   "pygments_lexer": "ipython3",
   "version": "3.9.12"
  }
 },
 "nbformat": 4,
 "nbformat_minor": 5
}
