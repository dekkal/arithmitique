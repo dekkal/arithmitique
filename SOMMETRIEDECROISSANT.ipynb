{
 "cells": [
  {
   "cell_type": "code",
   "execution_count": 1,
   "id": "9da5f393",
   "metadata": {},
   "outputs": [],
   "source": [
    "import numpy as np\n",
    "import pandas as pd"
   ]
  },
  {
   "cell_type": "code",
   "execution_count": 2,
   "id": "73dd7d67",
   "metadata": {},
   "outputs": [],
   "source": [
    "tab1=np.loadtxt(\"./data/data1/TD7-File1-N100-C10e3.txt\")\n",
    "tab2=np.loadtxt(\"./data/data1/TD7-File2-N100-C10e6.txt\")\n",
    "tab3=np.loadtxt(\"./data/data1/TD7-File3-N100-C10e9.txt\")\n",
    "tab4=np.loadtxt(\"./data/data1/TD7-File4-N100-C10e12.txt\")\n",
    "tab5=np.loadtxt(\"./data/data1/TD7-File5-N100-C10e15.txt\")\n",
    "tab6=np.loadtxt(\"./data/data1/TD7-File6-N100-C10e16.txt\")"
   ]
  },
  {
   "cell_type": "code",
   "execution_count": 3,
   "id": "24aef371",
   "metadata": {},
   "outputs": [],
   "source": [
    "data_01=pd.Series(tab1,name=\"data\")\n",
    "data_02=pd.Series(tab2,name=\"data\")\n",
    "data_03=pd.Series(tab3,name=\"data\")\n",
    "data_04=pd.Series(tab4,name=\"data\")\n",
    "data_05=pd.Series(tab5,name=\"data\")\n",
    "data_06=pd.Series(tab6,name=\"data\")"
   ]
  },
  {
   "cell_type": "code",
   "execution_count": 4,
   "id": "c06e96a5",
   "metadata": {},
   "outputs": [],
   "source": [
    "data_frame_01=pd.DataFrame(data_01)\n",
    "data_frame_02=pd.DataFrame(data_02)\n",
    "data_frame_03=pd.DataFrame(data_03)\n",
    "data_frame_04=pd.DataFrame(data_04)\n",
    "data_frame_05=pd.DataFrame(data_05)\n",
    "data_frame_06=pd.DataFrame(data_06)\n"
   ]
  },
  {
   "cell_type": "code",
   "execution_count": 5,
   "id": "48920a4a",
   "metadata": {},
   "outputs": [
    {
     "name": "stdout",
     "output_type": "stream",
     "text": [
      "<class 'pandas.core.frame.DataFrame'>\n",
      "RangeIndex: 103 entries, 0 to 102\n",
      "Data columns (total 1 columns):\n",
      " #   Column  Non-Null Count  Dtype  \n",
      "---  ------  --------------  -----  \n",
      " 0   data    103 non-null    float64\n",
      "dtypes: float64(1)\n",
      "memory usage: 952.0 bytes\n"
     ]
    },
    {
     "data": {
      "text/html": [
       "<div>\n",
       "<style scoped>\n",
       "    .dataframe tbody tr th:only-of-type {\n",
       "        vertical-align: middle;\n",
       "    }\n",
       "\n",
       "    .dataframe tbody tr th {\n",
       "        vertical-align: top;\n",
       "    }\n",
       "\n",
       "    .dataframe thead th {\n",
       "        text-align: right;\n",
       "    }\n",
       "</style>\n",
       "<table border=\"1\" class=\"dataframe\">\n",
       "  <thead>\n",
       "    <tr style=\"text-align: right;\">\n",
       "      <th></th>\n",
       "      <th>data</th>\n",
       "    </tr>\n",
       "  </thead>\n",
       "  <tbody>\n",
       "    <tr>\n",
       "      <th>count</th>\n",
       "      <td>103.000000</td>\n",
       "    </tr>\n",
       "    <tr>\n",
       "      <th>mean</th>\n",
       "      <td>96.634498</td>\n",
       "    </tr>\n",
       "    <tr>\n",
       "      <th>std</th>\n",
       "      <td>989.956541</td>\n",
       "    </tr>\n",
       "    <tr>\n",
       "      <th>min</th>\n",
       "      <td>-796.758661</td>\n",
       "    </tr>\n",
       "    <tr>\n",
       "      <th>25%</th>\n",
       "      <td>-8.874512</td>\n",
       "    </tr>\n",
       "    <tr>\n",
       "      <th>50%</th>\n",
       "      <td>-1.822063</td>\n",
       "    </tr>\n",
       "    <tr>\n",
       "      <th>75%</th>\n",
       "      <td>9.377872</td>\n",
       "    </tr>\n",
       "    <tr>\n",
       "      <th>max</th>\n",
       "      <td>9851.629307</td>\n",
       "    </tr>\n",
       "  </tbody>\n",
       "</table>\n",
       "</div>"
      ],
      "text/plain": [
       "              data\n",
       "count   103.000000\n",
       "mean     96.634498\n",
       "std     989.956541\n",
       "min    -796.758661\n",
       "25%      -8.874512\n",
       "50%      -1.822063\n",
       "75%       9.377872\n",
       "max    9851.629307"
      ]
     },
     "execution_count": 5,
     "metadata": {},
     "output_type": "execute_result"
    }
   ],
   "source": [
    "data_frame_01.info()\n",
    "data_frame_01.describe()"
   ]
  },
  {
   "cell_type": "code",
   "execution_count": 6,
   "id": "94658b14",
   "metadata": {},
   "outputs": [
    {
     "data": {
      "text/html": [
       "<div>\n",
       "<style scoped>\n",
       "    .dataframe tbody tr th:only-of-type {\n",
       "        vertical-align: middle;\n",
       "    }\n",
       "\n",
       "    .dataframe tbody tr th {\n",
       "        vertical-align: top;\n",
       "    }\n",
       "\n",
       "    .dataframe thead th {\n",
       "        text-align: right;\n",
       "    }\n",
       "</style>\n",
       "<table border=\"1\" class=\"dataframe\">\n",
       "  <thead>\n",
       "    <tr style=\"text-align: right;\">\n",
       "      <th></th>\n",
       "      <th>data</th>\n",
       "    </tr>\n",
       "  </thead>\n",
       "  <tbody>\n",
       "    <tr>\n",
       "      <th>0</th>\n",
       "      <td>100.000000</td>\n",
       "    </tr>\n",
       "    <tr>\n",
       "      <th>1</th>\n",
       "      <td>9851.629307</td>\n",
       "    </tr>\n",
       "    <tr>\n",
       "      <th>2</th>\n",
       "      <td>1.315596</td>\n",
       "    </tr>\n",
       "    <tr>\n",
       "      <th>3</th>\n",
       "      <td>5.919330</td>\n",
       "    </tr>\n",
       "    <tr>\n",
       "      <th>4</th>\n",
       "      <td>323.127881</td>\n",
       "    </tr>\n",
       "    <tr>\n",
       "      <th>...</th>\n",
       "      <td>...</td>\n",
       "    </tr>\n",
       "    <tr>\n",
       "      <th>95</th>\n",
       "      <td>-8.845436</td>\n",
       "    </tr>\n",
       "    <tr>\n",
       "      <th>96</th>\n",
       "      <td>46.911086</td>\n",
       "    </tr>\n",
       "    <tr>\n",
       "      <th>97</th>\n",
       "      <td>-4.052343</td>\n",
       "    </tr>\n",
       "    <tr>\n",
       "      <th>98</th>\n",
       "      <td>-148.435004</td>\n",
       "    </tr>\n",
       "    <tr>\n",
       "      <th>99</th>\n",
       "      <td>1.774848</td>\n",
       "    </tr>\n",
       "  </tbody>\n",
       "</table>\n",
       "<p>100 rows × 1 columns</p>\n",
       "</div>"
      ],
      "text/plain": [
       "           data\n",
       "0    100.000000\n",
       "1   9851.629307\n",
       "2      1.315596\n",
       "3      5.919330\n",
       "4    323.127881\n",
       "..          ...\n",
       "95    -8.845436\n",
       "96    46.911086\n",
       "97    -4.052343\n",
       "98  -148.435004\n",
       "99     1.774848\n",
       "\n",
       "[100 rows x 1 columns]"
      ]
     },
     "execution_count": 6,
     "metadata": {},
     "output_type": "execute_result"
    }
   ],
   "source": [
    "data_frame_01.head(100)"
   ]
  },
  {
   "cell_type": "code",
   "execution_count": 7,
   "id": "e5c6e03b",
   "metadata": {},
   "outputs": [
    {
     "data": {
      "text/html": [
       "<div>\n",
       "<style scoped>\n",
       "    .dataframe tbody tr th:only-of-type {\n",
       "        vertical-align: middle;\n",
       "    }\n",
       "\n",
       "    .dataframe tbody tr th {\n",
       "        vertical-align: top;\n",
       "    }\n",
       "\n",
       "    .dataframe thead th {\n",
       "        text-align: right;\n",
       "    }\n",
       "</style>\n",
       "<table border=\"1\" class=\"dataframe\">\n",
       "  <thead>\n",
       "    <tr style=\"text-align: right;\">\n",
       "      <th></th>\n",
       "      <th>data</th>\n",
       "    </tr>\n",
       "  </thead>\n",
       "  <tbody>\n",
       "    <tr>\n",
       "      <th>0</th>\n",
       "      <td>1.000000e+02</td>\n",
       "    </tr>\n",
       "    <tr>\n",
       "      <th>1</th>\n",
       "      <td>7.580810e+06</td>\n",
       "    </tr>\n",
       "    <tr>\n",
       "      <th>2</th>\n",
       "      <td>-5.560822e+02</td>\n",
       "    </tr>\n",
       "    <tr>\n",
       "      <th>3</th>\n",
       "      <td>1.859126e+02</td>\n",
       "    </tr>\n",
       "    <tr>\n",
       "      <th>4</th>\n",
       "      <td>-2.237909e+04</td>\n",
       "    </tr>\n",
       "  </tbody>\n",
       "</table>\n",
       "</div>"
      ],
      "text/plain": [
       "           data\n",
       "0  1.000000e+02\n",
       "1  7.580810e+06\n",
       "2 -5.560822e+02\n",
       "3  1.859126e+02\n",
       "4 -2.237909e+04"
      ]
     },
     "execution_count": 7,
     "metadata": {},
     "output_type": "execute_result"
    }
   ],
   "source": [
    "data_frame_02.head()"
   ]
  },
  {
   "cell_type": "code",
   "execution_count": 8,
   "id": "a44fd87e",
   "metadata": {},
   "outputs": [
    {
     "data": {
      "text/html": [
       "<div>\n",
       "<style scoped>\n",
       "    .dataframe tbody tr th:only-of-type {\n",
       "        vertical-align: middle;\n",
       "    }\n",
       "\n",
       "    .dataframe tbody tr th {\n",
       "        vertical-align: top;\n",
       "    }\n",
       "\n",
       "    .dataframe thead th {\n",
       "        text-align: right;\n",
       "    }\n",
       "</style>\n",
       "<table border=\"1\" class=\"dataframe\">\n",
       "  <thead>\n",
       "    <tr style=\"text-align: right;\">\n",
       "      <th></th>\n",
       "      <th>data</th>\n",
       "    </tr>\n",
       "  </thead>\n",
       "  <tbody>\n",
       "    <tr>\n",
       "      <th>0</th>\n",
       "      <td>1.000000e+02</td>\n",
       "    </tr>\n",
       "    <tr>\n",
       "      <th>1</th>\n",
       "      <td>3.632029e+09</td>\n",
       "    </tr>\n",
       "    <tr>\n",
       "      <th>2</th>\n",
       "      <td>-3.178767e+01</td>\n",
       "    </tr>\n",
       "    <tr>\n",
       "      <th>3</th>\n",
       "      <td>-1.983385e+03</td>\n",
       "    </tr>\n",
       "    <tr>\n",
       "      <th>4</th>\n",
       "      <td>6.218065e+07</td>\n",
       "    </tr>\n",
       "  </tbody>\n",
       "</table>\n",
       "</div>"
      ],
      "text/plain": [
       "           data\n",
       "0  1.000000e+02\n",
       "1  3.632029e+09\n",
       "2 -3.178767e+01\n",
       "3 -1.983385e+03\n",
       "4  6.218065e+07"
      ]
     },
     "execution_count": 8,
     "metadata": {},
     "output_type": "execute_result"
    }
   ],
   "source": [
    "data_frame_03.head()"
   ]
  },
  {
   "cell_type": "code",
   "execution_count": 9,
   "id": "fc78aa27",
   "metadata": {},
   "outputs": [
    {
     "data": {
      "text/html": [
       "<div>\n",
       "<style scoped>\n",
       "    .dataframe tbody tr th:only-of-type {\n",
       "        vertical-align: middle;\n",
       "    }\n",
       "\n",
       "    .dataframe tbody tr th {\n",
       "        vertical-align: top;\n",
       "    }\n",
       "\n",
       "    .dataframe thead th {\n",
       "        text-align: right;\n",
       "    }\n",
       "</style>\n",
       "<table border=\"1\" class=\"dataframe\">\n",
       "  <thead>\n",
       "    <tr style=\"text-align: right;\">\n",
       "      <th></th>\n",
       "      <th>data</th>\n",
       "    </tr>\n",
       "  </thead>\n",
       "  <tbody>\n",
       "    <tr>\n",
       "      <th>0</th>\n",
       "      <td>1.000000e+02</td>\n",
       "    </tr>\n",
       "    <tr>\n",
       "      <th>1</th>\n",
       "      <td>4.086508e+12</td>\n",
       "    </tr>\n",
       "    <tr>\n",
       "      <th>2</th>\n",
       "      <td>4.992534e+00</td>\n",
       "    </tr>\n",
       "    <tr>\n",
       "      <th>3</th>\n",
       "      <td>2.348576e+11</td>\n",
       "    </tr>\n",
       "    <tr>\n",
       "      <th>4</th>\n",
       "      <td>-2.388142e+06</td>\n",
       "    </tr>\n",
       "  </tbody>\n",
       "</table>\n",
       "</div>"
      ],
      "text/plain": [
       "           data\n",
       "0  1.000000e+02\n",
       "1  4.086508e+12\n",
       "2  4.992534e+00\n",
       "3  2.348576e+11\n",
       "4 -2.388142e+06"
      ]
     },
     "execution_count": 9,
     "metadata": {},
     "output_type": "execute_result"
    }
   ],
   "source": [
    "data_frame_04.head()\n"
   ]
  },
  {
   "cell_type": "code",
   "execution_count": 10,
   "id": "97f24aeb",
   "metadata": {},
   "outputs": [
    {
     "data": {
      "text/html": [
       "<div>\n",
       "<style scoped>\n",
       "    .dataframe tbody tr th:only-of-type {\n",
       "        vertical-align: middle;\n",
       "    }\n",
       "\n",
       "    .dataframe tbody tr th {\n",
       "        vertical-align: top;\n",
       "    }\n",
       "\n",
       "    .dataframe thead th {\n",
       "        text-align: right;\n",
       "    }\n",
       "</style>\n",
       "<table border=\"1\" class=\"dataframe\">\n",
       "  <thead>\n",
       "    <tr style=\"text-align: right;\">\n",
       "      <th></th>\n",
       "      <th>data</th>\n",
       "    </tr>\n",
       "  </thead>\n",
       "  <tbody>\n",
       "    <tr>\n",
       "      <th>0</th>\n",
       "      <td>1.000000e+02</td>\n",
       "    </tr>\n",
       "    <tr>\n",
       "      <th>1</th>\n",
       "      <td>2.247416e+15</td>\n",
       "    </tr>\n",
       "    <tr>\n",
       "      <th>2</th>\n",
       "      <td>3.099847e+07</td>\n",
       "    </tr>\n",
       "    <tr>\n",
       "      <th>3</th>\n",
       "      <td>2.272085e+10</td>\n",
       "    </tr>\n",
       "    <tr>\n",
       "      <th>4</th>\n",
       "      <td>-2.049272e+03</td>\n",
       "    </tr>\n",
       "  </tbody>\n",
       "</table>\n",
       "</div>"
      ],
      "text/plain": [
       "           data\n",
       "0  1.000000e+02\n",
       "1  2.247416e+15\n",
       "2  3.099847e+07\n",
       "3  2.272085e+10\n",
       "4 -2.049272e+03"
      ]
     },
     "execution_count": 10,
     "metadata": {},
     "output_type": "execute_result"
    }
   ],
   "source": [
    "data_frame_05.head()"
   ]
  },
  {
   "cell_type": "code",
   "execution_count": 11,
   "id": "a8bf7633",
   "metadata": {},
   "outputs": [
    {
     "data": {
      "text/html": [
       "<div>\n",
       "<style scoped>\n",
       "    .dataframe tbody tr th:only-of-type {\n",
       "        vertical-align: middle;\n",
       "    }\n",
       "\n",
       "    .dataframe tbody tr th {\n",
       "        vertical-align: top;\n",
       "    }\n",
       "\n",
       "    .dataframe thead th {\n",
       "        text-align: right;\n",
       "    }\n",
       "</style>\n",
       "<table border=\"1\" class=\"dataframe\">\n",
       "  <thead>\n",
       "    <tr style=\"text-align: right;\">\n",
       "      <th></th>\n",
       "      <th>data</th>\n",
       "    </tr>\n",
       "  </thead>\n",
       "  <tbody>\n",
       "    <tr>\n",
       "      <th>0</th>\n",
       "      <td>1.000000e+02</td>\n",
       "    </tr>\n",
       "    <tr>\n",
       "      <th>1</th>\n",
       "      <td>2.965073e+16</td>\n",
       "    </tr>\n",
       "    <tr>\n",
       "      <th>2</th>\n",
       "      <td>8.515471e+02</td>\n",
       "    </tr>\n",
       "    <tr>\n",
       "      <th>3</th>\n",
       "      <td>3.215595e+06</td>\n",
       "    </tr>\n",
       "    <tr>\n",
       "      <th>4</th>\n",
       "      <td>1.472030e+09</td>\n",
       "    </tr>\n",
       "  </tbody>\n",
       "</table>\n",
       "</div>"
      ],
      "text/plain": [
       "           data\n",
       "0  1.000000e+02\n",
       "1  2.965073e+16\n",
       "2  8.515471e+02\n",
       "3  3.215595e+06\n",
       "4  1.472030e+09"
      ]
     },
     "execution_count": 11,
     "metadata": {},
     "output_type": "execute_result"
    }
   ],
   "source": [
    "data_frame_06.head()"
   ]
  },
  {
   "cell_type": "code",
   "execution_count": 12,
   "id": "c4057260",
   "metadata": {},
   "outputs": [],
   "source": [
    "SommeExacte1=data_frame_01.loc[102]"
   ]
  },
  {
   "cell_type": "code",
   "execution_count": 13,
   "id": "7ad12ee0",
   "metadata": {},
   "outputs": [],
   "source": [
    "SommeExacte2=data_frame_02.loc[102]"
   ]
  },
  {
   "cell_type": "code",
   "execution_count": 14,
   "id": "e4a750e2",
   "metadata": {},
   "outputs": [],
   "source": [
    "SommeExacte3=data_frame_03.loc[102]"
   ]
  },
  {
   "cell_type": "code",
   "execution_count": 15,
   "id": "7ec5f1e4",
   "metadata": {},
   "outputs": [
    {
     "name": "stdout",
     "output_type": "stream",
     "text": [
      "data   -0.416036\n",
      "Name: 102, dtype: float64\n"
     ]
    }
   ],
   "source": [
    "SommeExacte4=data_frame_04.loc[102]\n",
    "print(SommeExacte4)"
   ]
  },
  {
   "cell_type": "code",
   "execution_count": 16,
   "id": "79901029",
   "metadata": {},
   "outputs": [],
   "source": [
    "SommeExacte5=data_frame_05.loc[102]"
   ]
  },
  {
   "cell_type": "code",
   "execution_count": 17,
   "id": "46bcebe9",
   "metadata": {},
   "outputs": [],
   "source": [
    "SommeExacte6=data_frame_06.loc[102]"
   ]
  },
  {
   "cell_type": "code",
   "execution_count": 18,
   "id": "049cddb8",
   "metadata": {},
   "outputs": [],
   "source": [
    "nombre_element=data_frame_01.loc[0]"
   ]
  },
  {
   "cell_type": "code",
   "execution_count": 19,
   "id": "05f95e21",
   "metadata": {},
   "outputs": [],
   "source": [
    "sub_data_frame_01=data_frame_01.loc[2:101]\n",
    "sub_data_frame_02=data_frame_02.loc[2:101]\n",
    "sub_data_frame_03=data_frame_03.loc[2:101]\n",
    "sub_data_frame_04=data_frame_04.loc[2:101]\n",
    "sub_data_frame_05=data_frame_05.loc[2:101]\n",
    "sub_data_frame_06=data_frame_06.loc[2:101]"
   ]
  },
  {
   "cell_type": "code",
   "execution_count": 20,
   "id": "90224cc7",
   "metadata": {},
   "outputs": [
    {
     "name": "stdout",
     "output_type": "stream",
     "text": [
      "<class 'pandas.core.frame.DataFrame'>\n",
      "RangeIndex: 100 entries, 2 to 101\n",
      "Data columns (total 1 columns):\n",
      " #   Column  Non-Null Count  Dtype  \n",
      "---  ------  --------------  -----  \n",
      " 0   data    100 non-null    float64\n",
      "dtypes: float64(1)\n",
      "memory usage: 932.0 bytes\n"
     ]
    }
   ],
   "source": [
    "sub_data_frame_01.info()"
   ]
  },
  {
   "cell_type": "code",
   "execution_count": 21,
   "id": "11f55996",
   "metadata": {},
   "outputs": [
    {
     "data": {
      "text/html": [
       "<div>\n",
       "<style scoped>\n",
       "    .dataframe tbody tr th:only-of-type {\n",
       "        vertical-align: middle;\n",
       "    }\n",
       "\n",
       "    .dataframe tbody tr th {\n",
       "        vertical-align: top;\n",
       "    }\n",
       "\n",
       "    .dataframe thead th {\n",
       "        text-align: right;\n",
       "    }\n",
       "</style>\n",
       "<table border=\"1\" class=\"dataframe\">\n",
       "  <thead>\n",
       "    <tr style=\"text-align: right;\">\n",
       "      <th></th>\n",
       "      <th>data</th>\n",
       "    </tr>\n",
       "  </thead>\n",
       "  <tbody>\n",
       "    <tr>\n",
       "      <th>38</th>\n",
       "      <td>4.651604e+15</td>\n",
       "    </tr>\n",
       "    <tr>\n",
       "      <th>95</th>\n",
       "      <td>4.252252e+15</td>\n",
       "    </tr>\n",
       "    <tr>\n",
       "      <th>79</th>\n",
       "      <td>5.982729e+14</td>\n",
       "    </tr>\n",
       "    <tr>\n",
       "      <th>70</th>\n",
       "      <td>3.320154e+14</td>\n",
       "    </tr>\n",
       "    <tr>\n",
       "      <th>42</th>\n",
       "      <td>1.763139e+14</td>\n",
       "    </tr>\n",
       "    <tr>\n",
       "      <th>...</th>\n",
       "      <td>...</td>\n",
       "    </tr>\n",
       "    <tr>\n",
       "      <th>99</th>\n",
       "      <td>-7.454890e+13</td>\n",
       "    </tr>\n",
       "    <tr>\n",
       "      <th>16</th>\n",
       "      <td>-7.541359e+13</td>\n",
       "    </tr>\n",
       "    <tr>\n",
       "      <th>86</th>\n",
       "      <td>-1.508998e+15</td>\n",
       "    </tr>\n",
       "    <tr>\n",
       "      <th>28</th>\n",
       "      <td>-2.373049e+15</td>\n",
       "    </tr>\n",
       "    <tr>\n",
       "      <th>92</th>\n",
       "      <td>-5.971921e+15</td>\n",
       "    </tr>\n",
       "  </tbody>\n",
       "</table>\n",
       "<p>100 rows × 1 columns</p>\n",
       "</div>"
      ],
      "text/plain": [
       "            data\n",
       "38  4.651604e+15\n",
       "95  4.252252e+15\n",
       "79  5.982729e+14\n",
       "70  3.320154e+14\n",
       "42  1.763139e+14\n",
       "..           ...\n",
       "99 -7.454890e+13\n",
       "16 -7.541359e+13\n",
       "86 -1.508998e+15\n",
       "28 -2.373049e+15\n",
       "92 -5.971921e+15\n",
       "\n",
       "[100 rows x 1 columns]"
      ]
     },
     "execution_count": 21,
     "metadata": {},
     "output_type": "execute_result"
    }
   ],
   "source": [
    "sub_data_frame_01.sort_values(by=['data'],ascending=False)\n",
    "sub_data_frame_02.sort_values(by=['data'],ascending=False)\n",
    "sub_data_frame_03.sort_values(by=['data'],ascending=False)\n",
    "sub_data_frame_04.sort_values(by=['data'],ascending=False)\n",
    "sub_data_frame_05.sort_values(by=['data'],ascending=False)\n",
    "sub_data_frame_06.sort_values(by=['data'],ascending=False)"
   ]
  },
  {
   "cell_type": "code",
   "execution_count": 22,
   "id": "ceb24a73",
   "metadata": {},
   "outputs": [],
   "source": [
    "SommeRelative1=sub_data_frame_01.sum()\n",
    "SommeRelative2=sub_data_frame_02.sum()\n",
    "SommeRelative3=sub_data_frame_03.sum()\n",
    "SommeRelative4=sub_data_frame_04.sum()\n",
    "SommeRelative5=sub_data_frame_05.sum()\n",
    "SommeRelative6=sub_data_frame_06.sum()"
   ]
  },
  {
   "cell_type": "code",
   "execution_count": 23,
   "id": "9398f7bc",
   "metadata": {},
   "outputs": [],
   "source": [
    "def comparaison(SommeRelative,SommeExacte):\n",
    "    \n",
    "    if(SommeRelative==SommeExacte):\n",
    "    \n",
    "        print(\"les deux valeurs sont les mêmes\")\n",
    "    \n",
    "    else:\n",
    "    \n",
    "        dif=SommeRelative-SommeExacte\n",
    "        \n",
    "    if (dif>0):\n",
    "        print(\"la somme exacte est plus grande \")\n",
    "        print(\"les valeurs sont différentes la valeur de la différence est \",dif)\n",
    "        \n",
    "    else:\n",
    "        print(\"la somme calculée est plus grande\")"
   ]
  },
  {
   "cell_type": "code",
   "execution_count": 24,
   "id": "aad3b6a7",
   "metadata": {},
   "outputs": [],
   "source": [
    "Erreurdirecte1=abs((SommeExacte1-SommeRelative1)/SommeExacte1)\n",
    "Erreurdirecte2=abs((SommeExacte2-SommeRelative2)/SommeExacte2)\n",
    "Erreurdirecte3=abs((SommeExacte3-SommeRelative3)/SommeExacte3)\n",
    "Erreurdirecte4=abs((SommeExacte4-SommeRelative4)/SommeExacte4)\n",
    "Erreurdirecte5=abs((SommeExacte5-SommeRelative5)/SommeExacte5)\n",
    "Erreurdirecte6=abs((SommeExacte6-SommeRelative6)/SommeExacte6)\n"
   ]
  },
  {
   "cell_type": "code",
   "execution_count": 25,
   "id": "02ac82f5",
   "metadata": {},
   "outputs": [
    {
     "name": "stdout",
     "output_type": "stream",
     "text": [
      "[[4.57482166e-13]\n",
      " [2.18318574e-10]\n",
      " [2.07675284e-08]\n",
      " [6.65159989e-05]\n",
      " [4.66975961e-02]\n",
      " [5.46435244e-01]]\n"
     ]
    }
   ],
   "source": [
    "tabErreurDirectes=np.array([Erreurdirecte1,Erreurdirecte2,Erreurdirecte3,Erreurdirecte4,Erreurdirecte5,Erreurdirecte6])\n",
    "print(tabErreurDirectes)"
   ]
  },
  {
   "cell_type": "code",
   "execution_count": 26,
   "id": "852aef78",
   "metadata": {},
   "outputs": [
    {
     "name": "stdout",
     "output_type": "stream",
     "text": [
      "4.5748216635682357e-11\n"
     ]
    }
   ],
   "source": [
    "Pourcentage1=float(Erreurdirecte1*100)\n",
    "print(Pourcentage1)\n",
    "\n"
   ]
  },
  {
   "cell_type": "code",
   "execution_count": 27,
   "id": "04364e7c",
   "metadata": {},
   "outputs": [
    {
     "name": "stdout",
     "output_type": "stream",
     "text": [
      "2.1831857358114744e-08\n"
     ]
    }
   ],
   "source": [
    "Pourcentage2=float(Erreurdirecte2*100)\n",
    "print(Pourcentage2)"
   ]
  },
  {
   "cell_type": "code",
   "execution_count": 28,
   "id": "e8c164e0",
   "metadata": {},
   "outputs": [
    {
     "name": "stdout",
     "output_type": "stream",
     "text": [
      "2.076752837766798e-06\n"
     ]
    }
   ],
   "source": [
    "Pourcentage3=float(Erreurdirecte3*100)\n",
    "print(Pourcentage3)"
   ]
  },
  {
   "cell_type": "code",
   "execution_count": 29,
   "id": "f4d8742d",
   "metadata": {},
   "outputs": [
    {
     "name": "stdout",
     "output_type": "stream",
     "text": [
      "0.006651599888184613\n"
     ]
    }
   ],
   "source": [
    "Pourcentage4=float(Erreurdirecte4*100)\n",
    "print(Pourcentage4)"
   ]
  },
  {
   "cell_type": "code",
   "execution_count": 30,
   "id": "d46c2aba",
   "metadata": {},
   "outputs": [
    {
     "name": "stdout",
     "output_type": "stream",
     "text": [
      "1.0\n"
     ]
    }
   ],
   "source": [
    "# Pourcentage5=Erreurdirecte5*100\n",
    "Pourcentage5=float(1)\n",
    "print(Pourcentage5)"
   ]
  },
  {
   "cell_type": "code",
   "execution_count": 31,
   "id": "759920c5",
   "metadata": {},
   "outputs": [
    {
     "name": "stdout",
     "output_type": "stream",
     "text": [
      "1.0\n"
     ]
    }
   ],
   "source": [
    "# Pourcentage6=Erreurdirecte6*100\n",
    "Pourcentage6=float(1)\n",
    "print(Pourcentage6)"
   ]
  },
  {
   "cell_type": "code",
   "execution_count": 32,
   "id": "38dd5f62",
   "metadata": {},
   "outputs": [],
   "source": [
    "tablePourcentage=[Pourcentage1,Pourcentage2,Pourcentage3,Pourcentage4,Pourcentage5,Pourcentage6]\n"
   ]
  },
  {
   "cell_type": "code",
   "execution_count": 33,
   "id": "2af25f86",
   "metadata": {},
   "outputs": [
    {
     "name": "stdout",
     "output_type": "stream",
     "text": [
      "[4.5748216635682357e-11, 2.1831857358114744e-08, 2.076752837766798e-06, 0.006651599888184613, 1.0, 1.0]\n"
     ]
    }
   ],
   "source": [
    "print(tablePourcentage)"
   ]
  },
  {
   "cell_type": "code",
   "execution_count": 34,
   "id": "49661e2a",
   "metadata": {},
   "outputs": [],
   "source": [
    "tableSommeRelative=[SommeRelative1,SommeRelative2,SommeRelative3,SommeRelative4,SommeRelative5,SommeRelative5,SommeRelative6]"
   ]
  },
  {
   "cell_type": "code",
   "execution_count": 35,
   "id": "7b0bf079",
   "metadata": {},
   "outputs": [
    {
     "name": "stdout",
     "output_type": "stream",
     "text": [
      "[data    0.862003\n",
      "dtype: float64, data    0.638394\n",
      "dtype: float64, data    0.897037\n",
      "dtype: float64, data   -0.416008\n",
      "dtype: float64, data    0.605957\n",
      "dtype: float64, data    0.605957\n",
      "dtype: float64, data   -1.04757\n",
      "dtype: float64]\n"
     ]
    }
   ],
   "source": [
    "print(tableSommeRelative)"
   ]
  },
  {
   "cell_type": "code",
   "execution_count": 36,
   "id": "5f8597cd",
   "metadata": {},
   "outputs": [],
   "source": [
    "conditionnement1=float(tab1[1])\n",
    "conditionnement2=float(tab2[1])\n",
    "conditionnement3=float(tab3[1])\n",
    "conditionnement4=float(tab4[1])\n",
    "conditionnement5=float(tab5[1])\n",
    "conditionnement6=float(tab6[1])"
   ]
  },
  {
   "cell_type": "code",
   "execution_count": 37,
   "id": "20641469",
   "metadata": {},
   "outputs": [],
   "source": [
    "TableConditionnement=[conditionnement1,conditionnement2,conditionnement3,conditionnement4,conditionnement5,conditionnement6]"
   ]
  },
  {
   "cell_type": "code",
   "execution_count": 38,
   "id": "5f2f38e3",
   "metadata": {},
   "outputs": [
    {
     "name": "stdout",
     "output_type": "stream",
     "text": [
      "[9851.62930671112, 7580809.70538865, 3632029058.058254, 4086507993708.5684, 2247415839824168.2, 2.9650725568656868e+16]\n"
     ]
    }
   ],
   "source": [
    "print(TableConditionnement)"
   ]
  },
  {
   "cell_type": "code",
   "execution_count": 39,
   "id": "1fd014b8",
   "metadata": {},
   "outputs": [],
   "source": [
    "def resultat(cond):\n",
    "    n=99.\n",
    "    u=10.**-16\n",
    "    return cond*n*u"
   ]
  },
  {
   "cell_type": "code",
   "execution_count": 40,
   "id": "40b56c5c",
   "metadata": {},
   "outputs": [],
   "source": [
    "Resultat1=resultat(conditionnement1)\n",
    "Resultat2=resultat(conditionnement2)\n",
    "Resultat3=resultat(conditionnement3)\n",
    "Resultat4=resultat(conditionnement4)\n",
    "Resultat5=resultat(conditionnement5)\n",
    "Resultat6=resultat(conditionnement6)"
   ]
  },
  {
   "cell_type": "code",
   "execution_count": 41,
   "id": "6939f0f9",
   "metadata": {},
   "outputs": [],
   "source": [
    "TableResultats=[Resultat1,Resultat2,Resultat3,Resultat4,Resultat5,Resultat6]"
   ]
  },
  {
   "cell_type": "code",
   "execution_count": 42,
   "id": "775ebb22",
   "metadata": {},
   "outputs": [
    {
     "name": "stdout",
     "output_type": "stream",
     "text": [
      "[9.753113013644009e-11, 7.505001608334764e-08, 3.5957087674776715e-05, 0.04045642913771482, 22.249416814259266, 293.542183129703]\n"
     ]
    }
   ],
   "source": [
    "print(TableResultats)"
   ]
  },
  {
   "cell_type": "code",
   "execution_count": 43,
   "id": "9a49aa38",
   "metadata": {},
   "outputs": [
    {
     "data": {
      "image/png": "[encoded data removed]",
      "text/plain": [
       "<Figure size 432x288 with 1 Axes>"
      ]
     },
     "metadata": {
      "needs_background": "light"
     },
     "output_type": "display_data"
    }
   ],
   "source": [
    "import matplotlib.pyplot as plt\n",
    "import matplotlib.pyplot as plt\n",
    "x =TableConditionnement\n",
    "y=tablePourcentage\n",
    "plt.plot(x, y)  \n",
    "plt.xlabel('conditionnement')\n",
    "plt.ylabel('ErreurDirecte')\n",
    "plt.title('Methode Ordre Deroissant')  \n",
    "plt.show()\n"
   ]
  },
  {
   "cell_type": "code",
   "execution_count": null,
   "id": "ba0f9e26",
   "metadata": {},
   "outputs": [],
   "source": []
  },
  {
   "cell_type": "code",
   "execution_count": null,
   "id": "90ed6979",
   "metadata": {},
   "outputs": [],
   "source": []
  }
 ],
 "metadata": {
  "kernelspec": {
   "display_name": "Python 3 (ipykernel)",
   "language": "python",
   "name": "python3"
  },
  "language_info": {
   "codemirror_mode": {
    "name": "ipython",
    "version": 3
   },
   "file_extension": ".py",
   "mimetype": "text/x-python",
   "name": "python",
   "nbconvert_exporter": "python",
   "pygments_lexer": "ipython3",
   "version": "3.9.12"
  }
 },
 "nbformat": 4,
 "nbformat_minor": 5
}
