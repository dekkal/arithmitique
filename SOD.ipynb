{
 "cells": [
  {
   "cell_type": "code",
   "execution_count": 101,
   "id": "2957e800",
   "metadata": {},
   "outputs": [
    {
     "name": "stdout",
     "output_type": "stream",
     "text": [
      "./data/ data1/TD7-File1-N100-C10e3.txt data1/TD7-File2-N100-C10e6.txt data1/TD7-File3-N100-C10e9.txt data1/TD7-File4-N100-C10e12.txt data1/TD7-File5-N100-C10e15.txt data1/TD7-File6-N100-C10e16.txt\n"
     ]
    }
   ],
   "source": [
    "\n",
    "from pathlib import Path\n",
    "import yaml\n",
    "\n",
    "def load_config(file):\n",
    "    with open(file) as f :\n",
    "        data= yaml.load(f,Loader=yaml.FullLoader)\n",
    "        dataset_dir=data['dataset_dir']\n",
    "        data1=data['input1']['file1']\n",
    "        data2=data['input1']['file2']\n",
    "        data3=data['input1']['file3']\n",
    "        data4=data['input1']['file4']\n",
    "        data5=data['input1']['file5']\n",
    "        data6=data['input1']['file6'] \n",
    "    return dataset_dir,data1,data2,data3,data4,data5,data6\n",
    "file=\"file.yaml\"\n",
    "dataset_dir,data1,data2,data3,data4,data5,data6=load_config(file)\n",
    "print(dataset_dir,data1,data2,data3,data4,data5,data6)"
   ]
  },
  {
   "cell_type": "code",
   "execution_count": 102,
   "id": "f9f63208",
   "metadata": {},
   "outputs": [],
   "source": [
    "\n",
    "def read_data(dataset_dir,data1,data2,data3,data4,data5,data6):\n",
    "    base_path = Path(dataset_dir)\n",
    "    res = []\n",
    "    for fname in [data1, data2, data3, data4,data5,data6]:\n",
    "        with open(base_path / fname, 'r') as file:\n",
    "            res.append(file.readlines())\n",
    "    return res\n",
    "file=\"./data/file.yaml\"\n",
    "\n",
    "liste1,liste2,liste3,liste4,liste5,liste6=read_data(dataset_dir,data1,data2,data3,data4,data5,data6)"
   ]
  },
  {
   "cell_type": "code",
   "execution_count": 103,
   "id": "52f06fa8",
   "metadata": {},
   "outputs": [],
   "source": [
    "SommeExacte1=liste1[102]\n",
    "SommeExacte2=liste2[102]\n",
    "SommeExacte3=liste3[102]\n",
    "SommeExacte4=liste4[102]\n",
    "SommeExacte5=liste5[102]\n",
    "SommeExacte6=liste6[102]"
   ]
  },
  {
   "cell_type": "code",
   "execution_count": 104,
   "id": "59979377",
   "metadata": {},
   "outputs": [
    {
     "name": "stdout",
     "output_type": "stream",
     "text": [
      " 100  \n",
      "\n"
     ]
    }
   ],
   "source": [
    "N=liste1[0]\n",
    "print(N)\n"
   ]
  },
  {
   "cell_type": "code",
   "execution_count": 105,
   "id": "58cd20e3",
   "metadata": {},
   "outputs": [],
   "source": [
    "sub_liste1=liste1[2:101]\n",
    "sub_liste2=liste2[2:101]\n",
    "sub_liste3=liste3[2:101]\n",
    "sub_liste4=liste4[2:101]\n",
    "sub_liste5=liste5[2:101]\n",
    "sub_liste6=liste6[2:101]"
   ]
  },
  {
   "cell_type": "code",
   "execution_count": 106,
   "id": "80e013b0",
   "metadata": {},
   "outputs": [],
   "source": [
    "def cast_liste(liste,float):\n",
    "    return list(map(float,liste))"
   ]
  },
  {
   "cell_type": "code",
   "execution_count": 107,
   "id": "8c464d54",
   "metadata": {},
   "outputs": [],
   "source": [
    "sub_liste1=sorted(cast_liste(sub_liste1,float))\n",
    "sub_liste2=sorted(cast_liste(sub_liste2,float))\n",
    "sub_liste3=sorted(cast_liste(sub_liste3,float))\n",
    "sub_liste4=sorted(cast_liste(sub_liste4,float))\n",
    "sub_liste5=sorted(cast_liste(sub_liste5,float))\n",
    "sub_liste6=sorted(cast_liste(sub_liste6,float))"
   ]
  },
  {
   "cell_type": "code",
   "execution_count": 108,
   "id": "e8575de9",
   "metadata": {},
   "outputs": [],
   "source": [
    "SommeRelative1=sum(sub_liste1)\n",
    "SommeRelative2=sum(sub_liste2)\n",
    "SommeRelative3=sum(sub_liste3)\n",
    "SommeRelative4=sum(sub_liste4)\n",
    "SommeRelative5=sum(sub_liste5)\n",
    "SommeRelative6=sum(sub_liste6)\n",
    "\n"
   ]
  },
  {
   "cell_type": "markdown",
   "id": "22fd0102",
   "metadata": {},
   "source": []
  },
  {
   "cell_type": "code",
   "execution_count": 109,
   "id": "058c89ab",
   "metadata": {},
   "outputs": [],
   "source": [
    "SommeExacte1=float(SommeExacte1)\n",
    "SommeExacte2=float(SommeExacte1)\n",
    "SommeExacte3=float(SommeExacte3)\n",
    "SommeExacte4=float(SommeExacte4)\n",
    "SommeExacte5=float(SommeExacte5)\n",
    "SommeExacte6=float(SommeExacte6)\n",
    "sommeRelative1=float(SommeRelative1)\n",
    "sommeRelative2=float(SommeRelative2)\n",
    "sommeRelative3=float(SommeRelative3)\n",
    "sommeRelative4=float(SommeRelative4)\n",
    "sommeRelative5=float(SommeRelative5)\n",
    "sommeRelative6=float(SommeRelative6)"
   ]
  },
  {
   "cell_type": "markdown",
   "id": "52e13292",
   "metadata": {},
   "source": []
  },
  {
   "cell_type": "code",
   "execution_count": 110,
   "id": "8326c76a",
   "metadata": {},
   "outputs": [],
   "source": [
    "Erreurdirecte1=abs((SommeExacte1-sommeRelative1)/SommeExacte1)\n",
    "Erreurdirecte2=abs((SommeExacte2-sommeRelative2)/SommeExacte2)\n",
    "Erreurdirecte3=abs((SommeExacte3-sommeRelative3)/SommeExacte3)\n",
    "Erreurdirecte4=abs((SommeExacte4-sommeRelative4)/SommeExacte4)\n",
    "Erreurdirecte5=abs((SommeExacte5-sommeRelative5)/SommeExacte5)\n",
    "Erreurdirecte6=abs((SommeExacte6-sommeRelative6)/SommeExacte6)"
   ]
  },
  {
   "cell_type": "code",
   "execution_count": 111,
   "id": "bd5811f2",
   "metadata": {},
   "outputs": [
    {
     "name": "stdout",
     "output_type": "stream",
     "text": [
      "[18.34709912838966, 1803.1749736594645, 6949.1750560378405, 267.45858148357655, 2187069885554.5134, 2082625.736014162]\n"
     ]
    }
   ],
   "source": [
    "tabErreurDirecte=[Erreurdirecte1,Erreurdirecte2,Erreurdirecte3,Erreurdirecte4,Erreurdirecte5,Erreurdirecte6]\n",
    "print(tabErreurDirecte)"
   ]
  },
  {
   "cell_type": "markdown",
   "id": "2a020380",
   "metadata": {},
   "source": []
  },
  {
   "cell_type": "code",
   "execution_count": 112,
   "id": "a88995ff",
   "metadata": {},
   "outputs": [],
   "source": [
    "Pourcentage1=float(Erreurdirecte1*100)\n",
    "Pourcentage2=float(Erreurdirecte2*100)\n",
    "Pourcentage3=float(Erreurdirecte3*100)\n",
    "Pourcentage4=float(Erreurdirecte4*100)\n",
    "Pourcentage5=float(Erreurdirecte5*100)\n",
    "Pourcentage6=float(Erreurdirecte6*100)"
   ]
  },
  {
   "cell_type": "code",
   "execution_count": 113,
   "id": "dec38c0b",
   "metadata": {},
   "outputs": [
    {
     "name": "stdout",
     "output_type": "stream",
     "text": [
      "[' 100  \\n', ' 9.8516293067111200799e+03\\n', ' 1.3155958872537993898e+00\\n', ' 5.9193303229212439476e+00\\n', ' 3.2312788069948902603e+02\\n', '-1.7428140120184082207e+01\\n', '-9.5858606018378253566e+01\\n', ' 1.2628572513950015122e+01\\n', ' 1.1953387300088536449e+01\\n', ' 1.4405149342675940716e+02\\n', '-2.0993392132142694173e+00\\n', ' 7.2723578634474108640e+00\\n', '-7.6754608020581002847e+01\\n', '-5.8333970930251179965e+00\\n', '-1.8827386232779400643e+02\\n', ' 2.4371705150207924362e+02\\n', ' 8.2009631196193044644e-01\\n', ' 1.8257297620054984577e+01\\n', '-7.9675866129097846624e+02\\n', ' 1.8127866110767286045e+01\\n', ' 8.8377715174094328177e+02\\n', ' 5.2238471816986242757e-01\\n', '-2.3292777961929178332e+02\\n', '-4.5125311911870156223e+00\\n', ' 4.5858318526975597251e+02\\n', '-8.3301388840042100981e+00\\n', ' 6.3239187294237773074e+01\\n', '-2.2406594310845981965e+00\\n', ' 1.4590495678566639981e+01\\n', '-5.8632622018785776064e+00\\n', '-3.2780373194472138820e+00\\n', '-7.1978789597261751965e+00\\n', '-2.3587453711502952558e+00\\n', '-6.0493188330066232083e+01\\n', '-9.6799639431376846233e+01\\n', '-2.2996474420305662534e+02\\n', '-1.1969485034710032778e+01\\n', ' 2.1139621166202648972e-01\\n', '-8.1241849830534853538e+00\\n', ' 2.8119186292252900117e+00\\n', ' 5.7307208761178378609e+02\\n', ' 2.8302700286377291405e+00\\n', ' 8.6466496115873727746e+00\\n', '-1.2279966483803298161e+02\\n', '-4.5962970083879584049e-01\\n', ' 2.5883191343510254967e+01\\n', ' 3.5131259977559903263e+00\\n', '-3.0100131812384796071e+00\\n', ' 1.0109094827842158182e+01\\n', '-2.8955233556537378625e+00\\n', '-8.9035883293583832909e+00\\n', '-1.1719652642165645506e-01\\n', '-5.1327870742095083045e+00\\n', ' 1.6848023186635554538e+00\\n', '-7.0540793259352279065e+00\\n', '-2.4708697814389779523e-01\\n', ' 4.9889319961937417247e-01\\n', '-5.7678958101892163768e-02\\n', '-2.8000249543663739971e+00\\n', '-3.0470437791373484515e+01\\n', ' 9.8080569380597015794e-01\\n', '-3.9430017109615380377e+02\\n', '-4.9351017279699291862e+01\\n', '-2.3321971314727457525e+02\\n', '-1.8220628904414093441e+00\\n', '-5.5522481821841289218e+01\\n', '-1.8365593181435269088e+01\\n', ' 7.8781116697467280119e+02\\n', ' 9.3378426234875007594e+01\\n', ' 1.3264877807375932139e+00\\n', '-8.7202438585341379707e+00\\n', '-3.0073360789682017646e+00\\n', ' 1.0867460165699981189e+01\\n', ' 4.9254986585197059412e+01\\n', '-7.4657375389151866329e+01\\n', '-7.2067727786776325516e+00\\n', '-7.2186270100574188291e+02\\n', ' 4.2057118146644512535e+01\\n', ' 1.2754477773859451872e+02\\n', ' 1.5647367360630468625e+00\\n', '-9.1814971094497224158e+00\\n', '-4.3386849087448258189e+00\\n', ' 1.9478150954324169319e+00\\n', '-2.9950911661984194190e+00\\n', '-6.4099290375393414010e+00\\n', '-5.3488785759236805006e+01\\n', ' 1.4073595585158284393e+02\\n', ' 2.2786825306849305406e+00\\n', '-2.6713467974427970830e+02\\n', '-7.3414283220047202860e+00\\n', '-6.2933137319318674940e+00\\n', '-4.5718290806436968410e+01\\n', '-1.3374306357279941437e-01\\n', '-1.1169182113006248525e+00\\n', '-7.1103146684833120617e+01\\n', '-8.8454355238493889146e+00\\n', ' 4.6911085717896980896e+01\\n', '-4.0523433378903011004e+00\\n', '-1.4843500355218543518e+02\\n', ' 1.7748480793980065950e+00\\n', ' 8.5085982397995280735e+01\\n', ' 1.5815263252837155505e+01\\n', ' 8.6200347761593931750e-01\\n']\n"
     ]
    }
   ],
   "source": [
    "def read_data(dataset_dir,data1,data2,data3,data4,data5,data6):\n",
    "    base_path = Path(dataset_dir)\n",
    "    res = []\n",
    "    for fname in [data1, data2, data3, data4,data5,data6]:\n",
    "        with open(base_path / fname, 'r') as file:\n",
    "            res.append(file.readlines())\n",
    "    return res\n",
    "# file=\"./data/file.yaml\"\n",
    "\n",
    "liste1,liste2,liste3,liste4,liste5,liste6=read_data(dataset_dir,data1,data2,data3,data4,data5,data6)\n",
    "print (liste1)"
   ]
  },
  {
   "cell_type": "code",
   "execution_count": 114,
   "id": "28e6b799",
   "metadata": {},
   "outputs": [],
   "source": [
    "\n",
    "def cast_liste(liste,float):\n",
    "    return list(map(float,liste))"
   ]
  },
  {
   "cell_type": "code",
   "execution_count": 115,
   "id": "cc580ab9",
   "metadata": {},
   "outputs": [],
   "source": [
    "liste1=cast_liste(liste1,float)\n",
    "liste2=cast_liste(liste2,float)\n",
    "liste3=cast_liste(liste3,float)\n",
    "liste4=cast_liste(liste4,float)\n",
    "liste5=cast_liste(liste5,float)\n",
    "liste6=cast_liste(liste6,float)\n"
   ]
  },
  {
   "cell_type": "code",
   "execution_count": 116,
   "id": "86e2f359",
   "metadata": {},
   "outputs": [
    {
     "name": "stdout",
     "output_type": "stream",
     "text": [
      "0.8620034776159393\n",
      "103\n"
     ]
    }
   ],
   "source": [
    "SommeExacte1=liste1[102]\n",
    "print(SommeExacte1)\n",
    "N=len(liste1)\n",
    "print(N)\n",
    "\n",
    "\n",
    "\n"
   ]
  },
  {
   "cell_type": "code",
   "execution_count": 117,
   "id": "0354da6d",
   "metadata": {},
   "outputs": [],
   "source": [
    "SommeExacte1=liste1[102]\n",
    "SommeExacte2=liste2[102]\n",
    "SommeExacte3=liste3[102]\n",
    "SommeExacte4=liste4[102]\n",
    "SommeExacte5=liste5[102]\n",
    "SommeExacte6=liste6[102]\n",
    "SommeExacte1=float(SommeExacte1)\n",
    "SommeExacte2=float(SommeExacte1)\n",
    "SommeExacte3=float(SommeExacte3)\n",
    "SommeExacte4=float(SommeExacte4)\n",
    "SommeExacte5=float(SommeExacte5)\n",
    "SommeExacte6=float(SommeExacte6)"
   ]
  },
  {
   "cell_type": "code",
   "execution_count": 118,
   "id": "a143a649",
   "metadata": {},
   "outputs": [],
   "source": [
    "sub_liste1=liste1[2:102]\n",
    "sub_liste2=liste2[2:102]\n",
    "sub_liste3=liste3[2:102]\n",
    "sub_liste4=liste4[2:102]\n",
    "sub_liste5=liste5[2:102]\n",
    "sub_liste6=liste6[2:102]"
   ]
  },
  {
   "cell_type": "code",
   "execution_count": 119,
   "id": "00253ff6",
   "metadata": {},
   "outputs": [],
   "source": [
    "conditionnement1=float(liste1[1])\n",
    "conditionnement2=float(liste2[1])\n",
    "conditionnement3=float(liste3[1])\n",
    "conditionnement4=float(liste4[1])\n",
    "conditionnement5=float(liste5[1])\n",
    "conditionnement6=float(liste6[1])"
   ]
  },
  {
   "cell_type": "code",
   "execution_count": 120,
   "id": "a956b6f6",
   "metadata": {},
   "outputs": [],
   "source": [
    "SommeRelative1=sum(sub_liste1)\n",
    "SommeRelative2=sum(sub_liste2)\n",
    "SommeRelative3=sum(sub_liste3)\n",
    "SommeRelative4=sum(sub_liste4)\n",
    "SommeRelative5=sum(sub_liste5)\n",
    "SommeRelative6=sum(sub_liste6)"
   ]
  },
  {
   "cell_type": "code",
   "execution_count": 121,
   "id": "92cb38e0",
   "metadata": {},
   "outputs": [],
   "source": [
    "Erreurdirecte1=abs((SommeExacte1-SommeRelative1)/SommeExacte1)\n",
    "Erreurdirecte2=abs((SommeExacte2-SommeRelative2)/SommeExacte2)\n",
    "Erreurdirecte3=abs((SommeExacte3-SommeRelative3)/SommeExacte3)\n",
    "Erreurdirecte4=abs((SommeExacte4-SommeRelative4)/SommeExacte4)\n",
    "Erreurdirecte5=abs((SommeExacte5-SommeRelative5)/SommeExacte5)\n",
    "Erreurdirecte6=abs((SommeExacte6-SommeRelative6)/SommeExacte6)"
   ]
  },
  {
   "cell_type": "code",
   "execution_count": 122,
   "id": "4cef32b6",
   "metadata": {},
   "outputs": [],
   "source": [
    "tabErreurDirecte=[Erreurdirecte1,Erreurdirecte2,Erreurdirecte3,Erreurdirecte4,Erreurdirecte5,Erreurdirecte6]"
   ]
  },
  {
   "cell_type": "code",
   "execution_count": 123,
   "id": "b12daad0",
   "metadata": {},
   "outputs": [],
   "source": [
    "Pourcentage1=float(Erreurdirecte1*100)\n",
    "Pourcentage2=float(Erreurdirecte2*100)\n",
    "Pourcentage3=float(Erreurdirecte3*100)\n",
    "Pourcentage4=float(Erreurdirecte4*100)\n",
    "Pourcentage5=float(1)\n",
    "Pourcentage6=float(1)"
   ]
  },
  {
   "cell_type": "code",
   "execution_count": 124,
   "id": "36510f58",
   "metadata": {},
   "outputs": [],
   "source": [
    "tablePourcentage=[Pourcentage1,Pourcentage2,Pourcentage3,Pourcentage4,Pourcentage5,Pourcentage6]"
   ]
  },
  {
   "cell_type": "code",
   "execution_count": 125,
   "id": "bfb8eadb",
   "metadata": {},
   "outputs": [
    {
     "name": "stdout",
     "output_type": "stream",
     "text": [
      "[1.6073697736861369e-13, 0.2594071664088994, 6.436776935367558e-07, 0.0003495342236714636, 0.018275203769062748, 1.6997259424655793]\n"
     ]
    }
   ],
   "source": [
    "print(tabErreurDirecte)\n"
   ]
  },
  {
   "cell_type": "code",
   "execution_count": 126,
   "id": "3331b416",
   "metadata": {},
   "outputs": [
    {
     "name": "stdout",
     "output_type": "stream",
     "text": [
      "[9851.62930671112, 7580809.70538865, 3632029058.058254, 4086507993708.5684, 2247415839824168.2, 2.9650725568656868e+16]\n"
     ]
    }
   ],
   "source": [
    "tableconditionnement=[conditionnement1,conditionnement2,conditionnement3,conditionnement4,conditionnement5,conditionnement6]\n",
    "print(tableconditionnement)"
   ]
  },
  {
   "cell_type": "code",
   "execution_count": null,
   "id": "323cc516",
   "metadata": {},
   "outputs": [],
   "source": []
  },
  {
   "cell_type": "code",
   "execution_count": null,
   "id": "e51d841a",
   "metadata": {},
   "outputs": [],
   "source": []
  }
 ],
 "metadata": {
  "kernelspec": {
   "display_name": "Python 3",
   "language": "python",
   "name": "python3"
  },
  "language_info": {
   "codemirror_mode": {
    "name": "ipython",
    "version": 3
   },
   "file_extension": ".py",
   "mimetype": "text/x-python",
   "name": "python",
   "nbconvert_exporter": "python",
   "pygments_lexer": "ipython3",
   "version": "3.8.10"
  }
 },
 "nbformat": 4,
 "nbformat_minor": 5
}
